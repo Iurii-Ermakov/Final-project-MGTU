{
 "cells": [
  {
   "cell_type": "markdown",
   "metadata": {
    "id": "2onK_gKw8uFp"
   },
   "source": [
    "<h1>Задача «Классификация агрокультур на основе изменения показателя вегетационных индексов во временной последовательности»"
   ]
  },
  {
   "cell_type": "markdown",
   "metadata": {
    "id": "3Gu76QIE8-99"
   },
   "source": [
    "<H2>Условие задачи"
   ]
  },
  {
   "cell_type": "markdown",
   "metadata": {
    "id": "U9SpAXXN9Da5"
   },
   "source": [
    "Перед участниками чемпионата стоит\n",
    "задача\n",
    "классификации\n",
    "агрокультур на основе изменения показателя вегетационных индексов во\n",
    "временной последовательности. Созданная за время чемпионата модель\n",
    "поможет оптимизировать рабочие процессы в сфере сельского хозяйства,\n",
    "обеспечить\n",
    "органы\n",
    "власти\n",
    "актуальными\n",
    "и\n",
    "достоверными\n",
    "сведениями,\n",
    "увеличить социальный, инвестиционный и производственный потенциал\n",
    "отрасли,\n",
    "а\n",
    "также\n",
    "повысить\n",
    "достоверность\n",
    "и\n",
    "удобство использования\n",
    "информации о сельскохозяйственных объектах."
   ]
  },
  {
   "cell_type": "markdown",
   "metadata": {
    "id": "ApMYRdNc9PUY"
   },
   "source": [
    "<h3>Описание входных значений</h3>\n",
    "\n",
    "● train.csv — файл, содержащий данные о поле и временные ряды\n",
    "\n",
    "● test.csv — файл, содержащий данные для предсказания\n",
    "\n",
    "● sample_solution.csv — пример файла для отправки\n",
    "\n",
    "**Пояснения к столбцам**\n",
    "\n",
    "\n",
    "\n",
    "*   id – идентификатор объекта (поля)\n",
    "*   area – площадь поля в га\n",
    "*   nd mean YYYY-MM-DD – медианное значение вегетационного индекса\n",
    "NDVI для данного поля на указанную дату\n",
    "*   geo – координаты границ поля\n",
    "*   crop – столбец для предсказания, содержит тип произрастающей\n",
    "культуры по данным сельхозтоваропроизводителей\n",
    "\n",
    "**Дополнительно расшифруем типы культур:**\n",
    "\n",
    "0.   подсолнечник\n",
    "1.   картофель\n",
    "2.   пшеница озимая\n",
    "3.   гречиха\n",
    "4.   кукуруза\n",
    "5.   пшеница яровая\n",
    "6.   сахарная свекла\n",
    "\n",
    "**Метрика**\n",
    "\n",
    "В качестве метрики выступает Recall по столбцу crop.\n"
   ]
  },
  {
   "cell_type": "code",
   "execution_count": 1,
   "metadata": {
    "colab": {
     "base_uri": "https://localhost:8080/"
    },
    "id": "mVaXxaWANvOK",
    "outputId": "0f6256ea-94ee-444c-e787-57343fc272d5",
    "scrolled": true
   },
   "outputs": [
    {
     "name": "stdout",
     "output_type": "stream",
     "text": [
      "Requirement already satisfied: xgboost in c:\\users\\ermak\\anaconda3\\lib\\site-packages (1.7.1)\n",
      "Requirement already satisfied: numpy in c:\\users\\ermak\\anaconda3\\lib\\site-packages (from xgboost) (1.20.3)\n",
      "Requirement already satisfied: scipy in c:\\users\\ermak\\anaconda3\\lib\\site-packages (from xgboost) (1.7.3)\n",
      "Note: you may need to restart the kernel to use updated packages.\n"
     ]
    }
   ],
   "source": [
    "pip install xgboost"
   ]
  },
  {
   "cell_type": "code",
   "execution_count": 2,
   "metadata": {
    "id": "5K6gQMXYA5aG"
   },
   "outputs": [],
   "source": [
    "# импорт библиотек\n",
    "import datetime\n",
    "import matplotlib.pyplot as plt\n",
    "import numpy as np\n",
    "import pandas as pd\n",
    "import seaborn as sns\n",
    "import tensorflow as tf\n",
    "import xgboost as xgb\n",
    "\n",
    "\n",
    "from lightgbm import LGBMClassifier\n",
    "from sklearn import preprocessing\n",
    "from sklearn import utils\n",
    "from sklearn.model_selection import train_test_split\n",
    "from sklearn.linear_model import LogisticRegression\n",
    "from sklearn.ensemble import RandomForestClassifier, HistGradientBoostingClassifier\n",
    "from sklearn.preprocessing import StandardScaler\n",
    "from sklearn.model_selection import RandomizedSearchCV, GridSearchCV\n",
    "\n",
    "\n",
    "from sklearn import svm\n",
    "from sklearn.metrics import roc_auc_score, roc_curve, auc, accuracy_score, recall_score, precision_score, confusion_matrix\n",
    "from sklearn.neighbors import KNeighborsClassifier\n",
    "from sklearn.pipeline import make_pipeline\n",
    "\n",
    "\n",
    "#импорт для нейронки\n",
    "from tensorflow import keras\n",
    "from tensorflow.keras import Sequential\n",
    "from tensorflow.keras.layers import Dense, Dropout\n",
    "from tensorflow.keras import utils\n",
    "from tensorflow.keras import layers\n",
    "\n",
    "\n",
    "import warnings\n",
    "from warnings import filterwarnings\n",
    "warnings.filterwarnings('error')\n",
    "filterwarnings(action='ignore', category=DeprecationWarning, message='`np.bool` is a deprecated alias')\n",
    "%matplotlib inline\n",
    "\n",
    "RANDOM_STATE = 12345"
   ]
  },
  {
   "cell_type": "code",
   "execution_count": 3,
   "metadata": {
    "id": "gUP_6OekBN1g"
   },
   "outputs": [],
   "source": [
    "# загрузка датасетов\n",
    "try:\n",
    "    df_train = pd.read_csv(\"/content/train_dataset_train.csv\")\n",
    "    df_test = pd.read_csv(\"/content/test_dataset_test.csv\")\n",
    "except:\n",
    "    df_train = pd.read_csv('D:/Соревнования/Иннополис/Иннополис/train_dataset_train.csv')\n",
    "    df_test = pd.read_csv('D:/Соревнования/Иннополис/Иннополис/test_dataset_test.csv')"
   ]
  },
  {
   "cell_type": "code",
   "execution_count": 4,
   "metadata": {
    "id": "BZbMcFfVB1qa"
   },
   "outputs": [],
   "source": [
    "# функция на первичную проверку данных\n",
    "def df_check(dataset):\n",
    "    print('Общая информация\\n')\n",
    "    display(dataset.info())\n",
    "    print('Первые строки датасета\\n')\n",
    "    display(dataset.head())\n",
    "    print('Описательная статистика\\n')\n",
    "    display(dataset.describe())\n",
    "    print('Описательная статистика столбцов object\\n')\n",
    "    display(dataset.describe(include=['object', 'bool']))\n",
    "    print('Количество пропусков в каждом столбце\\n')\n",
    "    display(dataset.isna().sum())\n",
    "    print('Количество уникальных значений\\n')\n",
    "    display(dataset.nunique())\n",
    "    print('Количество дубликатов\\n')\n",
    "    display(dataset.duplicated().sum())"
   ]
  },
  {
   "cell_type": "code",
   "execution_count": 5,
   "metadata": {
    "colab": {
     "base_uri": "https://localhost:8080/",
     "height": 1000
    },
    "id": "aMUMEvg2CaR4",
    "outputId": "bb54f071-78cc-4882-b43a-5095e43b18d5"
   },
   "outputs": [
    {
     "name": "stdout",
     "output_type": "stream",
     "text": [
      "Общая информация\n",
      "\n",
      "<class 'pandas.core.frame.DataFrame'>\n",
      "RangeIndex: 4830 entries, 0 to 4829\n",
      "Data columns (total 74 columns):\n",
      " #   Column              Non-Null Count  Dtype  \n",
      "---  ------              --------------  -----  \n",
      " 0   id                  4830 non-null   int64  \n",
      " 1   area                4830 non-null   int64  \n",
      " 2   nd_mean_2021-04-16  4830 non-null   float64\n",
      " 3   nd_mean_2021-04-19  4830 non-null   float64\n",
      " 4   nd_mean_2021-04-22  4830 non-null   float64\n",
      " 5   nd_mean_2021-04-26  4830 non-null   float64\n",
      " 6   nd_mean_2021-04-28  4830 non-null   float64\n",
      " 7   nd_mean_2021-05-02  4830 non-null   float64\n",
      " 8   nd_mean_2021-05-04  4830 non-null   float64\n",
      " 9   nd_mean_2021-05-07  4830 non-null   float64\n",
      " 10  nd_mean_2021-05-16  4830 non-null   float64\n",
      " 11  nd_mean_2021-05-17  4830 non-null   float64\n",
      " 12  nd_mean_2021-05-21  4830 non-null   float64\n",
      " 13  nd_mean_2021-05-26  4830 non-null   float64\n",
      " 14  nd_mean_2021-05-27  4830 non-null   float64\n",
      " 15  nd_mean_2021-05-29  4830 non-null   float64\n",
      " 16  nd_mean_2021-06-06  4830 non-null   float64\n",
      " 17  nd_mean_2021-06-09  4830 non-null   float64\n",
      " 18  nd_mean_2021-06-13  4830 non-null   float64\n",
      " 19  nd_mean_2021-06-16  4830 non-null   float64\n",
      " 20  nd_mean_2021-06-18  4830 non-null   float64\n",
      " 21  nd_mean_2021-06-19  4830 non-null   float64\n",
      " 22  nd_mean_2021-06-20  4830 non-null   float64\n",
      " 23  nd_mean_2021-06-22  4830 non-null   float64\n",
      " 24  nd_mean_2021-06-25  4830 non-null   float64\n",
      " 25  nd_mean_2021-06-27  4830 non-null   float64\n",
      " 26  nd_mean_2021-07-07  4830 non-null   float64\n",
      " 27  nd_mean_2021-07-08  4830 non-null   float64\n",
      " 28  nd_mean_2021-07-09  4830 non-null   float64\n",
      " 29  nd_mean_2021-07-13  4830 non-null   float64\n",
      " 30  nd_mean_2021-07-15  4830 non-null   float64\n",
      " 31  nd_mean_2021-07-17  4830 non-null   float64\n",
      " 32  nd_mean_2021-07-20  4830 non-null   float64\n",
      " 33  nd_mean_2021-07-26  4830 non-null   float64\n",
      " 34  nd_mean_2021-07-27  4830 non-null   float64\n",
      " 35  nd_mean_2021-07-29  4830 non-null   float64\n",
      " 36  nd_mean_2021-07-31  4830 non-null   float64\n",
      " 37  nd_mean_2021-08-07  4830 non-null   float64\n",
      " 38  nd_mean_2021-08-12  4830 non-null   float64\n",
      " 39  .geo                4830 non-null   object \n",
      " 40  nd_mean_2021-04-15  4830 non-null   float64\n",
      " 41  nd_mean_2021-04-18  4830 non-null   float64\n",
      " 42  nd_mean_2021-04-25  4830 non-null   float64\n",
      " 43  nd_mean_2021-04-27  4830 non-null   float64\n",
      " 44  nd_mean_2021-04-29  4830 non-null   float64\n",
      " 45  nd_mean_2021-04-30  4830 non-null   float64\n",
      " 46  nd_mean_2021-06-07  4830 non-null   float64\n",
      " 47  nd_mean_2021-06-12  4830 non-null   float64\n",
      " 48  nd_mean_2021-06-28  4830 non-null   float64\n",
      " 49  nd_mean_2021-08-01  4830 non-null   float64\n",
      " 50  nd_mean_2021-08-11  4830 non-null   float64\n",
      " 51  nd_mean_2021-05-01  4830 non-null   float64\n",
      " 52  nd_mean_2021-05-03  4830 non-null   float64\n",
      " 53  nd_mean_2021-05-10  4830 non-null   float64\n",
      " 54  nd_mean_2021-05-15  4830 non-null   float64\n",
      " 55  nd_mean_2021-06-02  4830 non-null   float64\n",
      " 56  nd_mean_2021-06-03  4830 non-null   float64\n",
      " 57  nd_mean_2021-07-04  4830 non-null   float64\n",
      " 58  nd_mean_2021-08-10  4830 non-null   float64\n",
      " 59  nd_mean_2021-08-23  4830 non-null   float64\n",
      " 60  nd_mean_2021-04-20  4830 non-null   float64\n",
      " 61  nd_mean_2021-04-23  4830 non-null   float64\n",
      " 62  nd_mean_2021-05-09  4830 non-null   float64\n",
      " 63  nd_mean_2021-05-19  4830 non-null   float64\n",
      " 64  nd_mean_2021-05-20  4830 non-null   float64\n",
      " 65  nd_mean_2021-06-04  4830 non-null   float64\n",
      " 66  nd_mean_2021-06-05  4830 non-null   float64\n",
      " 67  nd_mean_2021-06-10  4830 non-null   float64\n",
      " 68  nd_mean_2021-07-05  4830 non-null   float64\n",
      " 69  nd_mean_2021-08-13  4830 non-null   float64\n",
      " 70  nd_mean_2021-08-27  4830 non-null   float64\n",
      " 71  nd_mean_2021-05-08  4830 non-null   float64\n",
      " 72  nd_mean_2021-05-24  4830 non-null   float64\n",
      " 73  crop                4830 non-null   int64  \n",
      "dtypes: float64(70), int64(3), object(1)\n",
      "memory usage: 2.7+ MB\n"
     ]
    },
    {
     "data": {
      "text/plain": [
       "None"
      ]
     },
     "metadata": {},
     "output_type": "display_data"
    },
    {
     "name": "stdout",
     "output_type": "stream",
     "text": [
      "Первые строки датасета\n",
      "\n"
     ]
    },
    {
     "data": {
      "text/html": [
       "<div>\n",
       "<style scoped>\n",
       "    .dataframe tbody tr th:only-of-type {\n",
       "        vertical-align: middle;\n",
       "    }\n",
       "\n",
       "    .dataframe tbody tr th {\n",
       "        vertical-align: top;\n",
       "    }\n",
       "\n",
       "    .dataframe thead th {\n",
       "        text-align: right;\n",
       "    }\n",
       "</style>\n",
       "<table border=\"1\" class=\"dataframe\">\n",
       "  <thead>\n",
       "    <tr style=\"text-align: right;\">\n",
       "      <th></th>\n",
       "      <th>id</th>\n",
       "      <th>area</th>\n",
       "      <th>nd_mean_2021-04-16</th>\n",
       "      <th>nd_mean_2021-04-19</th>\n",
       "      <th>nd_mean_2021-04-22</th>\n",
       "      <th>nd_mean_2021-04-26</th>\n",
       "      <th>nd_mean_2021-04-28</th>\n",
       "      <th>nd_mean_2021-05-02</th>\n",
       "      <th>nd_mean_2021-05-04</th>\n",
       "      <th>nd_mean_2021-05-07</th>\n",
       "      <th>...</th>\n",
       "      <th>nd_mean_2021-05-20</th>\n",
       "      <th>nd_mean_2021-06-04</th>\n",
       "      <th>nd_mean_2021-06-05</th>\n",
       "      <th>nd_mean_2021-06-10</th>\n",
       "      <th>nd_mean_2021-07-05</th>\n",
       "      <th>nd_mean_2021-08-13</th>\n",
       "      <th>nd_mean_2021-08-27</th>\n",
       "      <th>nd_mean_2021-05-08</th>\n",
       "      <th>nd_mean_2021-05-24</th>\n",
       "      <th>crop</th>\n",
       "    </tr>\n",
       "  </thead>\n",
       "  <tbody>\n",
       "    <tr>\n",
       "      <th>0</th>\n",
       "      <td>3536</td>\n",
       "      <td>20</td>\n",
       "      <td>0.072846</td>\n",
       "      <td>0.261778</td>\n",
       "      <td>0.062981</td>\n",
       "      <td>0.104442</td>\n",
       "      <td>0.021096</td>\n",
       "      <td>0.052202</td>\n",
       "      <td>0.158723</td>\n",
       "      <td>0.000000</td>\n",
       "      <td>...</td>\n",
       "      <td>0.108999</td>\n",
       "      <td>0.118854</td>\n",
       "      <td>0.000000</td>\n",
       "      <td>0.000000</td>\n",
       "      <td>0.026784</td>\n",
       "      <td>0.126832</td>\n",
       "      <td>0.614770</td>\n",
       "      <td>0.008857</td>\n",
       "      <td>0.081498</td>\n",
       "      <td>3</td>\n",
       "    </tr>\n",
       "    <tr>\n",
       "      <th>1</th>\n",
       "      <td>3739</td>\n",
       "      <td>45</td>\n",
       "      <td>0.332928</td>\n",
       "      <td>0.287182</td>\n",
       "      <td>0.097138</td>\n",
       "      <td>0.152467</td>\n",
       "      <td>0.075484</td>\n",
       "      <td>0.000000</td>\n",
       "      <td>0.140326</td>\n",
       "      <td>0.163340</td>\n",
       "      <td>...</td>\n",
       "      <td>0.134469</td>\n",
       "      <td>0.208268</td>\n",
       "      <td>0.000000</td>\n",
       "      <td>0.000000</td>\n",
       "      <td>0.111148</td>\n",
       "      <td>0.174914</td>\n",
       "      <td>0.179612</td>\n",
       "      <td>0.113071</td>\n",
       "      <td>0.046997</td>\n",
       "      <td>4</td>\n",
       "    </tr>\n",
       "    <tr>\n",
       "      <th>2</th>\n",
       "      <td>1294</td>\n",
       "      <td>28</td>\n",
       "      <td>0.013679</td>\n",
       "      <td>0.007055</td>\n",
       "      <td>0.120804</td>\n",
       "      <td>0.037839</td>\n",
       "      <td>0.259125</td>\n",
       "      <td>0.000000</td>\n",
       "      <td>0.037446</td>\n",
       "      <td>0.506516</td>\n",
       "      <td>...</td>\n",
       "      <td>0.084467</td>\n",
       "      <td>0.000000</td>\n",
       "      <td>0.210496</td>\n",
       "      <td>0.130467</td>\n",
       "      <td>0.155225</td>\n",
       "      <td>0.090607</td>\n",
       "      <td>0.054127</td>\n",
       "      <td>0.007437</td>\n",
       "      <td>0.219614</td>\n",
       "      <td>2</td>\n",
       "    </tr>\n",
       "    <tr>\n",
       "      <th>3</th>\n",
       "      <td>2859</td>\n",
       "      <td>19</td>\n",
       "      <td>0.105976</td>\n",
       "      <td>0.052500</td>\n",
       "      <td>0.001917</td>\n",
       "      <td>0.011531</td>\n",
       "      <td>0.042316</td>\n",
       "      <td>0.000000</td>\n",
       "      <td>0.000000</td>\n",
       "      <td>0.043604</td>\n",
       "      <td>...</td>\n",
       "      <td>0.000000</td>\n",
       "      <td>0.642226</td>\n",
       "      <td>0.132886</td>\n",
       "      <td>0.000000</td>\n",
       "      <td>0.570928</td>\n",
       "      <td>0.073492</td>\n",
       "      <td>0.378900</td>\n",
       "      <td>0.327677</td>\n",
       "      <td>0.586523</td>\n",
       "      <td>5</td>\n",
       "    </tr>\n",
       "    <tr>\n",
       "      <th>4</th>\n",
       "      <td>3685</td>\n",
       "      <td>33</td>\n",
       "      <td>0.130885</td>\n",
       "      <td>0.063492</td>\n",
       "      <td>0.024416</td>\n",
       "      <td>0.000000</td>\n",
       "      <td>0.150671</td>\n",
       "      <td>0.046717</td>\n",
       "      <td>0.254284</td>\n",
       "      <td>0.101479</td>\n",
       "      <td>...</td>\n",
       "      <td>0.206158</td>\n",
       "      <td>0.099058</td>\n",
       "      <td>0.152003</td>\n",
       "      <td>0.073357</td>\n",
       "      <td>0.147842</td>\n",
       "      <td>0.157676</td>\n",
       "      <td>0.012048</td>\n",
       "      <td>0.054223</td>\n",
       "      <td>0.017539</td>\n",
       "      <td>4</td>\n",
       "    </tr>\n",
       "  </tbody>\n",
       "</table>\n",
       "<p>5 rows × 74 columns</p>\n",
       "</div>"
      ],
      "text/plain": [
       "     id  area  nd_mean_2021-04-16  nd_mean_2021-04-19  nd_mean_2021-04-22  \\\n",
       "0  3536    20            0.072846            0.261778            0.062981   \n",
       "1  3739    45            0.332928            0.287182            0.097138   \n",
       "2  1294    28            0.013679            0.007055            0.120804   \n",
       "3  2859    19            0.105976            0.052500            0.001917   \n",
       "4  3685    33            0.130885            0.063492            0.024416   \n",
       "\n",
       "   nd_mean_2021-04-26  nd_mean_2021-04-28  nd_mean_2021-05-02  \\\n",
       "0            0.104442            0.021096            0.052202   \n",
       "1            0.152467            0.075484            0.000000   \n",
       "2            0.037839            0.259125            0.000000   \n",
       "3            0.011531            0.042316            0.000000   \n",
       "4            0.000000            0.150671            0.046717   \n",
       "\n",
       "   nd_mean_2021-05-04  nd_mean_2021-05-07  ...  nd_mean_2021-05-20  \\\n",
       "0            0.158723            0.000000  ...            0.108999   \n",
       "1            0.140326            0.163340  ...            0.134469   \n",
       "2            0.037446            0.506516  ...            0.084467   \n",
       "3            0.000000            0.043604  ...            0.000000   \n",
       "4            0.254284            0.101479  ...            0.206158   \n",
       "\n",
       "   nd_mean_2021-06-04  nd_mean_2021-06-05  nd_mean_2021-06-10  \\\n",
       "0            0.118854            0.000000            0.000000   \n",
       "1            0.208268            0.000000            0.000000   \n",
       "2            0.000000            0.210496            0.130467   \n",
       "3            0.642226            0.132886            0.000000   \n",
       "4            0.099058            0.152003            0.073357   \n",
       "\n",
       "   nd_mean_2021-07-05  nd_mean_2021-08-13  nd_mean_2021-08-27  \\\n",
       "0            0.026784            0.126832            0.614770   \n",
       "1            0.111148            0.174914            0.179612   \n",
       "2            0.155225            0.090607            0.054127   \n",
       "3            0.570928            0.073492            0.378900   \n",
       "4            0.147842            0.157676            0.012048   \n",
       "\n",
       "   nd_mean_2021-05-08  nd_mean_2021-05-24  crop  \n",
       "0            0.008857            0.081498     3  \n",
       "1            0.113071            0.046997     4  \n",
       "2            0.007437            0.219614     2  \n",
       "3            0.327677            0.586523     5  \n",
       "4            0.054223            0.017539     4  \n",
       "\n",
       "[5 rows x 74 columns]"
      ]
     },
     "metadata": {},
     "output_type": "display_data"
    },
    {
     "name": "stdout",
     "output_type": "stream",
     "text": [
      "Описательная статистика\n",
      "\n"
     ]
    },
    {
     "data": {
      "text/html": [
       "<div>\n",
       "<style scoped>\n",
       "    .dataframe tbody tr th:only-of-type {\n",
       "        vertical-align: middle;\n",
       "    }\n",
       "\n",
       "    .dataframe tbody tr th {\n",
       "        vertical-align: top;\n",
       "    }\n",
       "\n",
       "    .dataframe thead th {\n",
       "        text-align: right;\n",
       "    }\n",
       "</style>\n",
       "<table border=\"1\" class=\"dataframe\">\n",
       "  <thead>\n",
       "    <tr style=\"text-align: right;\">\n",
       "      <th></th>\n",
       "      <th>id</th>\n",
       "      <th>area</th>\n",
       "      <th>nd_mean_2021-04-16</th>\n",
       "      <th>nd_mean_2021-04-19</th>\n",
       "      <th>nd_mean_2021-04-22</th>\n",
       "      <th>nd_mean_2021-04-26</th>\n",
       "      <th>nd_mean_2021-04-28</th>\n",
       "      <th>nd_mean_2021-05-02</th>\n",
       "      <th>nd_mean_2021-05-04</th>\n",
       "      <th>nd_mean_2021-05-07</th>\n",
       "      <th>...</th>\n",
       "      <th>nd_mean_2021-05-20</th>\n",
       "      <th>nd_mean_2021-06-04</th>\n",
       "      <th>nd_mean_2021-06-05</th>\n",
       "      <th>nd_mean_2021-06-10</th>\n",
       "      <th>nd_mean_2021-07-05</th>\n",
       "      <th>nd_mean_2021-08-13</th>\n",
       "      <th>nd_mean_2021-08-27</th>\n",
       "      <th>nd_mean_2021-05-08</th>\n",
       "      <th>nd_mean_2021-05-24</th>\n",
       "      <th>crop</th>\n",
       "    </tr>\n",
       "  </thead>\n",
       "  <tbody>\n",
       "    <tr>\n",
       "      <th>count</th>\n",
       "      <td>4830.000000</td>\n",
       "      <td>4830.000000</td>\n",
       "      <td>4830.000000</td>\n",
       "      <td>4830.000000</td>\n",
       "      <td>4830.000000</td>\n",
       "      <td>4830.000000</td>\n",
       "      <td>4830.000000</td>\n",
       "      <td>4830.000000</td>\n",
       "      <td>4830.000000</td>\n",
       "      <td>4830.000000</td>\n",
       "      <td>...</td>\n",
       "      <td>4830.000000</td>\n",
       "      <td>4830.000000</td>\n",
       "      <td>4830.000000</td>\n",
       "      <td>4830.000000</td>\n",
       "      <td>4830.000000</td>\n",
       "      <td>4830.000000</td>\n",
       "      <td>4830.000000</td>\n",
       "      <td>4830.000000</td>\n",
       "      <td>4830.000000</td>\n",
       "      <td>4830.000000</td>\n",
       "    </tr>\n",
       "    <tr>\n",
       "      <th>mean</th>\n",
       "      <td>3473.406211</td>\n",
       "      <td>53.871429</td>\n",
       "      <td>0.149911</td>\n",
       "      <td>0.118843</td>\n",
       "      <td>0.158939</td>\n",
       "      <td>0.166146</td>\n",
       "      <td>0.125002</td>\n",
       "      <td>0.162440</td>\n",
       "      <td>0.092302</td>\n",
       "      <td>0.108834</td>\n",
       "      <td>...</td>\n",
       "      <td>0.153016</td>\n",
       "      <td>0.168406</td>\n",
       "      <td>0.111583</td>\n",
       "      <td>0.141471</td>\n",
       "      <td>0.172343</td>\n",
       "      <td>0.121483</td>\n",
       "      <td>0.145211</td>\n",
       "      <td>0.107207</td>\n",
       "      <td>0.119274</td>\n",
       "      <td>2.953830</td>\n",
       "    </tr>\n",
       "    <tr>\n",
       "      <th>std</th>\n",
       "      <td>1984.993812</td>\n",
       "      <td>34.191660</td>\n",
       "      <td>0.112598</td>\n",
       "      <td>0.103192</td>\n",
       "      <td>0.136001</td>\n",
       "      <td>0.123605</td>\n",
       "      <td>0.117605</td>\n",
       "      <td>0.145027</td>\n",
       "      <td>0.095207</td>\n",
       "      <td>0.120939</td>\n",
       "      <td>...</td>\n",
       "      <td>0.185321</td>\n",
       "      <td>0.219428</td>\n",
       "      <td>0.150879</td>\n",
       "      <td>0.190674</td>\n",
       "      <td>0.228629</td>\n",
       "      <td>0.151392</td>\n",
       "      <td>0.162711</td>\n",
       "      <td>0.108508</td>\n",
       "      <td>0.155346</td>\n",
       "      <td>2.004587</td>\n",
       "    </tr>\n",
       "    <tr>\n",
       "      <th>min</th>\n",
       "      <td>0.000000</td>\n",
       "      <td>10.000000</td>\n",
       "      <td>0.000000</td>\n",
       "      <td>0.000000</td>\n",
       "      <td>0.000000</td>\n",
       "      <td>0.000000</td>\n",
       "      <td>0.000000</td>\n",
       "      <td>0.000000</td>\n",
       "      <td>0.000000</td>\n",
       "      <td>0.000000</td>\n",
       "      <td>...</td>\n",
       "      <td>-0.005158</td>\n",
       "      <td>-0.000653</td>\n",
       "      <td>0.000000</td>\n",
       "      <td>0.000000</td>\n",
       "      <td>0.000000</td>\n",
       "      <td>0.000000</td>\n",
       "      <td>0.000000</td>\n",
       "      <td>0.000000</td>\n",
       "      <td>0.000000</td>\n",
       "      <td>0.000000</td>\n",
       "    </tr>\n",
       "    <tr>\n",
       "      <th>25%</th>\n",
       "      <td>1772.500000</td>\n",
       "      <td>26.000000</td>\n",
       "      <td>0.047477</td>\n",
       "      <td>0.025280</td>\n",
       "      <td>0.050124</td>\n",
       "      <td>0.053859</td>\n",
       "      <td>0.027609</td>\n",
       "      <td>0.040885</td>\n",
       "      <td>0.012844</td>\n",
       "      <td>0.014682</td>\n",
       "      <td>...</td>\n",
       "      <td>0.020299</td>\n",
       "      <td>0.020892</td>\n",
       "      <td>0.012363</td>\n",
       "      <td>0.017028</td>\n",
       "      <td>0.018379</td>\n",
       "      <td>0.015292</td>\n",
       "      <td>0.022416</td>\n",
       "      <td>0.017028</td>\n",
       "      <td>0.011673</td>\n",
       "      <td>1.000000</td>\n",
       "    </tr>\n",
       "    <tr>\n",
       "      <th>50%</th>\n",
       "      <td>3489.500000</td>\n",
       "      <td>45.000000</td>\n",
       "      <td>0.142240</td>\n",
       "      <td>0.097346</td>\n",
       "      <td>0.129819</td>\n",
       "      <td>0.155571</td>\n",
       "      <td>0.096516</td>\n",
       "      <td>0.121307</td>\n",
       "      <td>0.069936</td>\n",
       "      <td>0.077155</td>\n",
       "      <td>...</td>\n",
       "      <td>0.086570</td>\n",
       "      <td>0.086574</td>\n",
       "      <td>0.068423</td>\n",
       "      <td>0.077626</td>\n",
       "      <td>0.085643</td>\n",
       "      <td>0.076428</td>\n",
       "      <td>0.088429</td>\n",
       "      <td>0.079537</td>\n",
       "      <td>0.070808</td>\n",
       "      <td>3.000000</td>\n",
       "    </tr>\n",
       "    <tr>\n",
       "      <th>75%</th>\n",
       "      <td>5191.750000</td>\n",
       "      <td>76.000000</td>\n",
       "      <td>0.245596</td>\n",
       "      <td>0.202955</td>\n",
       "      <td>0.241323</td>\n",
       "      <td>0.269131</td>\n",
       "      <td>0.192070</td>\n",
       "      <td>0.277772</td>\n",
       "      <td>0.143207</td>\n",
       "      <td>0.162079</td>\n",
       "      <td>...</td>\n",
       "      <td>0.189195</td>\n",
       "      <td>0.190436</td>\n",
       "      <td>0.149199</td>\n",
       "      <td>0.168154</td>\n",
       "      <td>0.192834</td>\n",
       "      <td>0.162134</td>\n",
       "      <td>0.198258</td>\n",
       "      <td>0.162584</td>\n",
       "      <td>0.158424</td>\n",
       "      <td>5.000000</td>\n",
       "    </tr>\n",
       "    <tr>\n",
       "      <th>max</th>\n",
       "      <td>6900.000000</td>\n",
       "      <td>140.000000</td>\n",
       "      <td>0.987671</td>\n",
       "      <td>0.760245</td>\n",
       "      <td>0.764437</td>\n",
       "      <td>0.983779</td>\n",
       "      <td>0.668150</td>\n",
       "      <td>0.970286</td>\n",
       "      <td>0.779277</td>\n",
       "      <td>0.782066</td>\n",
       "      <td>...</td>\n",
       "      <td>0.835639</td>\n",
       "      <td>0.892481</td>\n",
       "      <td>0.867968</td>\n",
       "      <td>0.946030</td>\n",
       "      <td>0.939444</td>\n",
       "      <td>0.896011</td>\n",
       "      <td>0.786905</td>\n",
       "      <td>0.766119</td>\n",
       "      <td>0.835383</td>\n",
       "      <td>6.000000</td>\n",
       "    </tr>\n",
       "  </tbody>\n",
       "</table>\n",
       "<p>8 rows × 73 columns</p>\n",
       "</div>"
      ],
      "text/plain": [
       "                id         area  nd_mean_2021-04-16  nd_mean_2021-04-19  \\\n",
       "count  4830.000000  4830.000000         4830.000000         4830.000000   \n",
       "mean   3473.406211    53.871429            0.149911            0.118843   \n",
       "std    1984.993812    34.191660            0.112598            0.103192   \n",
       "min       0.000000    10.000000            0.000000            0.000000   \n",
       "25%    1772.500000    26.000000            0.047477            0.025280   \n",
       "50%    3489.500000    45.000000            0.142240            0.097346   \n",
       "75%    5191.750000    76.000000            0.245596            0.202955   \n",
       "max    6900.000000   140.000000            0.987671            0.760245   \n",
       "\n",
       "       nd_mean_2021-04-22  nd_mean_2021-04-26  nd_mean_2021-04-28  \\\n",
       "count         4830.000000         4830.000000         4830.000000   \n",
       "mean             0.158939            0.166146            0.125002   \n",
       "std              0.136001            0.123605            0.117605   \n",
       "min              0.000000            0.000000            0.000000   \n",
       "25%              0.050124            0.053859            0.027609   \n",
       "50%              0.129819            0.155571            0.096516   \n",
       "75%              0.241323            0.269131            0.192070   \n",
       "max              0.764437            0.983779            0.668150   \n",
       "\n",
       "       nd_mean_2021-05-02  nd_mean_2021-05-04  nd_mean_2021-05-07  ...  \\\n",
       "count         4830.000000         4830.000000         4830.000000  ...   \n",
       "mean             0.162440            0.092302            0.108834  ...   \n",
       "std              0.145027            0.095207            0.120939  ...   \n",
       "min              0.000000            0.000000            0.000000  ...   \n",
       "25%              0.040885            0.012844            0.014682  ...   \n",
       "50%              0.121307            0.069936            0.077155  ...   \n",
       "75%              0.277772            0.143207            0.162079  ...   \n",
       "max              0.970286            0.779277            0.782066  ...   \n",
       "\n",
       "       nd_mean_2021-05-20  nd_mean_2021-06-04  nd_mean_2021-06-05  \\\n",
       "count         4830.000000         4830.000000         4830.000000   \n",
       "mean             0.153016            0.168406            0.111583   \n",
       "std              0.185321            0.219428            0.150879   \n",
       "min             -0.005158           -0.000653            0.000000   \n",
       "25%              0.020299            0.020892            0.012363   \n",
       "50%              0.086570            0.086574            0.068423   \n",
       "75%              0.189195            0.190436            0.149199   \n",
       "max              0.835639            0.892481            0.867968   \n",
       "\n",
       "       nd_mean_2021-06-10  nd_mean_2021-07-05  nd_mean_2021-08-13  \\\n",
       "count         4830.000000         4830.000000         4830.000000   \n",
       "mean             0.141471            0.172343            0.121483   \n",
       "std              0.190674            0.228629            0.151392   \n",
       "min              0.000000            0.000000            0.000000   \n",
       "25%              0.017028            0.018379            0.015292   \n",
       "50%              0.077626            0.085643            0.076428   \n",
       "75%              0.168154            0.192834            0.162134   \n",
       "max              0.946030            0.939444            0.896011   \n",
       "\n",
       "       nd_mean_2021-08-27  nd_mean_2021-05-08  nd_mean_2021-05-24         crop  \n",
       "count         4830.000000         4830.000000         4830.000000  4830.000000  \n",
       "mean             0.145211            0.107207            0.119274     2.953830  \n",
       "std              0.162711            0.108508            0.155346     2.004587  \n",
       "min              0.000000            0.000000            0.000000     0.000000  \n",
       "25%              0.022416            0.017028            0.011673     1.000000  \n",
       "50%              0.088429            0.079537            0.070808     3.000000  \n",
       "75%              0.198258            0.162584            0.158424     5.000000  \n",
       "max              0.786905            0.766119            0.835383     6.000000  \n",
       "\n",
       "[8 rows x 73 columns]"
      ]
     },
     "metadata": {},
     "output_type": "display_data"
    },
    {
     "name": "stdout",
     "output_type": "stream",
     "text": [
      "Описательная статистика столбцов object\n",
      "\n"
     ]
    },
    {
     "data": {
      "text/html": [
       "<div>\n",
       "<style scoped>\n",
       "    .dataframe tbody tr th:only-of-type {\n",
       "        vertical-align: middle;\n",
       "    }\n",
       "\n",
       "    .dataframe tbody tr th {\n",
       "        vertical-align: top;\n",
       "    }\n",
       "\n",
       "    .dataframe thead th {\n",
       "        text-align: right;\n",
       "    }\n",
       "</style>\n",
       "<table border=\"1\" class=\"dataframe\">\n",
       "  <thead>\n",
       "    <tr style=\"text-align: right;\">\n",
       "      <th></th>\n",
       "      <th>.geo</th>\n",
       "    </tr>\n",
       "  </thead>\n",
       "  <tbody>\n",
       "    <tr>\n",
       "      <th>count</th>\n",
       "      <td>4830</td>\n",
       "    </tr>\n",
       "    <tr>\n",
       "      <th>unique</th>\n",
       "      <td>4830</td>\n",
       "    </tr>\n",
       "    <tr>\n",
       "      <th>top</th>\n",
       "      <td>{\"type\":\"Polygon\",\"coordinates\":[[[42.49107269...</td>\n",
       "    </tr>\n",
       "    <tr>\n",
       "      <th>freq</th>\n",
       "      <td>1</td>\n",
       "    </tr>\n",
       "  </tbody>\n",
       "</table>\n",
       "</div>"
      ],
      "text/plain": [
       "                                                     .geo\n",
       "count                                                4830\n",
       "unique                                               4830\n",
       "top     {\"type\":\"Polygon\",\"coordinates\":[[[42.49107269...\n",
       "freq                                                    1"
      ]
     },
     "metadata": {},
     "output_type": "display_data"
    },
    {
     "name": "stdout",
     "output_type": "stream",
     "text": [
      "Количество пропусков в каждом столбце\n",
      "\n"
     ]
    },
    {
     "data": {
      "text/plain": [
       "id                    0\n",
       "area                  0\n",
       "nd_mean_2021-04-16    0\n",
       "nd_mean_2021-04-19    0\n",
       "nd_mean_2021-04-22    0\n",
       "                     ..\n",
       "nd_mean_2021-08-13    0\n",
       "nd_mean_2021-08-27    0\n",
       "nd_mean_2021-05-08    0\n",
       "nd_mean_2021-05-24    0\n",
       "crop                  0\n",
       "Length: 74, dtype: int64"
      ]
     },
     "metadata": {},
     "output_type": "display_data"
    },
    {
     "name": "stdout",
     "output_type": "stream",
     "text": [
      "Количество уникальных значений\n",
      "\n"
     ]
    },
    {
     "data": {
      "text/plain": [
       "id                    4830\n",
       "area                   131\n",
       "nd_mean_2021-04-16    4272\n",
       "nd_mean_2021-04-19    4081\n",
       "nd_mean_2021-04-22    4298\n",
       "                      ... \n",
       "nd_mean_2021-08-13    3939\n",
       "nd_mean_2021-08-27    4054\n",
       "nd_mean_2021-05-08    4002\n",
       "nd_mean_2021-05-24    3899\n",
       "crop                     7\n",
       "Length: 74, dtype: int64"
      ]
     },
     "metadata": {},
     "output_type": "display_data"
    },
    {
     "name": "stdout",
     "output_type": "stream",
     "text": [
      "Количество дубликатов\n",
      "\n"
     ]
    },
    {
     "data": {
      "text/plain": [
       "0"
      ]
     },
     "metadata": {},
     "output_type": "display_data"
    }
   ],
   "source": [
    "df_check(df_train)"
   ]
  },
  {
   "cell_type": "markdown",
   "metadata": {
    "id": "k3RU_tFVG4CG"
   },
   "source": [
    "Сейчас разберу целевой столбец crop. Популярность культур и зависимость этого столбца от других данных."
   ]
  },
  {
   "cell_type": "code",
   "execution_count": 6,
   "metadata": {
    "colab": {
     "base_uri": "https://localhost:8080/",
     "height": 279
    },
    "id": "j29LXo7jPOUj",
    "outputId": "61a283cf-af80-40bb-aee4-450761ee378e"
   },
   "outputs": [
    {
     "data": {
      "image/png": "[encoded data removed]",
      "text/plain": [
       "<Figure size 432x288 with 1 Axes>"
      ]
     },
     "metadata": {
      "needs_background": "light"
     },
     "output_type": "display_data"
    }
   ],
   "source": [
    "df_train['crop'].hist(bins=20)\n",
    "plt.xlabel('Культура')\n",
    "plt.ylabel('Количество')\n",
    "plt.show()"
   ]
  },
  {
   "cell_type": "code",
   "execution_count": 7,
   "metadata": {
    "colab": {
     "base_uri": "https://localhost:8080/"
    },
    "id": "cpxVYByuIO-Q",
    "outputId": "e1876101-281a-43d5-d312-8b7224fa7d83"
   },
   "outputs": [
    {
     "data": {
      "text/plain": [
       "0    726\n",
       "1    700\n",
       "2    697\n",
       "3    655\n",
       "4    718\n",
       "5    668\n",
       "6    666\n",
       "Name: crop, dtype: int64"
      ]
     },
     "execution_count": 7,
     "metadata": {},
     "output_type": "execute_result"
    }
   ],
   "source": [
    "df_train['crop'].value_counts().sort_index(ascending=True)"
   ]
  },
  {
   "cell_type": "markdown",
   "metadata": {
    "id": "B-YH6RXmm9uV"
   },
   "source": [
    "Целевой признак выглядит сбалансированным"
   ]
  },
  {
   "cell_type": "code",
   "execution_count": 8,
   "metadata": {
    "id": "Mvl9HB4qZ0_N"
   },
   "outputs": [],
   "source": [
    "cols = ['id', 'nd_mean_2021-04-16', 'nd_mean_2021-04-19', 'nd_mean_2021-04-22', 'nd_mean_2021-04-26', 'nd_mean_2021-04-28',\n",
    "         'nd_mean_2021-05-02', 'nd_mean_2021-05-04', 'nd_mean_2021-05-07', 'nd_mean_2021-05-16', 'nd_mean_2021-05-17',\n",
    "         'nd_mean_2021-05-21', 'nd_mean_2021-05-26', 'nd_mean_2021-05-27', 'nd_mean_2021-05-29', 'nd_mean_2021-06-06',\n",
    "         'nd_mean_2021-06-13', 'nd_mean_2021-06-16', 'nd_mean_2021-06-18', 'nd_mean_2021-06-19', 'nd_mean_2021-06-20',\n",
    "          'nd_mean_2021-06-22', 'nd_mean_2021-06-25', 'nd_mean_2021-06-27', 'nd_mean_2021-07-07', 'nd_mean_2021-07-08',\n",
    "          'nd_mean_2021-07-09', 'nd_mean_2021-07-13', 'nd_mean_2021-07-15', 'nd_mean_2021-07-17', 'nd_mean_2021-07-20',\n",
    "          'nd_mean_2021-07-26', 'nd_mean_2021-07-27', 'nd_mean_2021-07-29', 'nd_mean_2021-07-31', 'nd_mean_2021-08-07', \n",
    "          'nd_mean_2021-08-12', 'nd_mean_2021-04-15', 'nd_mean_2021-04-18', 'nd_mean_2021-04-25', 'nd_mean_2021-04-27',\n",
    "          'nd_mean_2021-04-29', 'nd_mean_2021-04-30', 'nd_mean_2021-06-07', 'nd_mean_2021-06-12', 'nd_mean_2021-06-28',\n",
    "          'nd_mean_2021-08-01', 'nd_mean_2021-08-11', 'nd_mean_2021-05-01', 'nd_mean_2021-05-03', 'nd_mean_2021-05-10', \n",
    "          'nd_mean_2021-05-15', 'nd_mean_2021-06-02', 'nd_mean_2021-06-03', 'nd_mean_2021-07-04', 'nd_mean_2021-08-10',\n",
    "          'nd_mean_2021-08-23', 'nd_mean_2021-04-20', 'nd_mean_2021-04-23', 'nd_mean_2021-05-09', 'nd_mean_2021-05-19',\n",
    "          'nd_mean_2021-05-20', 'nd_mean_2021-06-04', 'nd_mean_2021-06-05', 'nd_mean_2021-06-10', 'nd_mean_2021-07-05',\n",
    "          'nd_mean_2021-08-13',  'nd_mean_2021-08-27', 'nd_mean_2021-05-08', 'nd_mean_2021-05-24']"
   ]
  },
  {
   "cell_type": "code",
   "execution_count": 9,
   "metadata": {
    "colab": {
     "base_uri": "https://localhost:8080/",
     "height": 474
    },
    "id": "vixyBlakcJ9D",
    "outputId": "cb43a66a-9c3a-4d46-a0be-baf0aaf14e35"
   },
   "outputs": [
    {
     "data": {
      "text/html": [
       "<div>\n",
       "<style scoped>\n",
       "    .dataframe tbody tr th:only-of-type {\n",
       "        vertical-align: middle;\n",
       "    }\n",
       "\n",
       "    .dataframe tbody tr th {\n",
       "        vertical-align: top;\n",
       "    }\n",
       "\n",
       "    .dataframe thead th {\n",
       "        text-align: right;\n",
       "    }\n",
       "</style>\n",
       "<table border=\"1\" class=\"dataframe\">\n",
       "  <thead>\n",
       "    <tr style=\"text-align: right;\">\n",
       "      <th></th>\n",
       "      <th>id</th>\n",
       "      <th>nd_mean_2021-04-16</th>\n",
       "      <th>nd_mean_2021-04-19</th>\n",
       "      <th>nd_mean_2021-04-22</th>\n",
       "      <th>nd_mean_2021-04-26</th>\n",
       "      <th>nd_mean_2021-04-28</th>\n",
       "      <th>nd_mean_2021-05-02</th>\n",
       "      <th>nd_mean_2021-05-04</th>\n",
       "      <th>nd_mean_2021-05-07</th>\n",
       "      <th>nd_mean_2021-05-16</th>\n",
       "      <th>...</th>\n",
       "      <th>nd_mean_2021-05-19</th>\n",
       "      <th>nd_mean_2021-05-20</th>\n",
       "      <th>nd_mean_2021-06-04</th>\n",
       "      <th>nd_mean_2021-06-05</th>\n",
       "      <th>nd_mean_2021-06-10</th>\n",
       "      <th>nd_mean_2021-07-05</th>\n",
       "      <th>nd_mean_2021-08-13</th>\n",
       "      <th>nd_mean_2021-08-27</th>\n",
       "      <th>nd_mean_2021-05-08</th>\n",
       "      <th>nd_mean_2021-05-24</th>\n",
       "    </tr>\n",
       "  </thead>\n",
       "  <tbody>\n",
       "    <tr>\n",
       "      <th>0</th>\n",
       "      <td>3536</td>\n",
       "      <td>0.072846</td>\n",
       "      <td>0.261778</td>\n",
       "      <td>0.062981</td>\n",
       "      <td>0.104442</td>\n",
       "      <td>0.021096</td>\n",
       "      <td>0.052202</td>\n",
       "      <td>0.158723</td>\n",
       "      <td>0.000000</td>\n",
       "      <td>0.484102</td>\n",
       "      <td>...</td>\n",
       "      <td>0.425571</td>\n",
       "      <td>0.108999</td>\n",
       "      <td>0.118854</td>\n",
       "      <td>0.000000</td>\n",
       "      <td>0.000000</td>\n",
       "      <td>0.026784</td>\n",
       "      <td>0.126832</td>\n",
       "      <td>0.614770</td>\n",
       "      <td>0.008857</td>\n",
       "      <td>0.081498</td>\n",
       "    </tr>\n",
       "    <tr>\n",
       "      <th>1</th>\n",
       "      <td>3739</td>\n",
       "      <td>0.332928</td>\n",
       "      <td>0.287182</td>\n",
       "      <td>0.097138</td>\n",
       "      <td>0.152467</td>\n",
       "      <td>0.075484</td>\n",
       "      <td>0.000000</td>\n",
       "      <td>0.140326</td>\n",
       "      <td>0.163340</td>\n",
       "      <td>0.519456</td>\n",
       "      <td>...</td>\n",
       "      <td>0.248935</td>\n",
       "      <td>0.134469</td>\n",
       "      <td>0.208268</td>\n",
       "      <td>0.000000</td>\n",
       "      <td>0.000000</td>\n",
       "      <td>0.111148</td>\n",
       "      <td>0.174914</td>\n",
       "      <td>0.179612</td>\n",
       "      <td>0.113071</td>\n",
       "      <td>0.046997</td>\n",
       "    </tr>\n",
       "    <tr>\n",
       "      <th>2</th>\n",
       "      <td>1294</td>\n",
       "      <td>0.013679</td>\n",
       "      <td>0.007055</td>\n",
       "      <td>0.120804</td>\n",
       "      <td>0.037839</td>\n",
       "      <td>0.259125</td>\n",
       "      <td>0.000000</td>\n",
       "      <td>0.037446</td>\n",
       "      <td>0.506516</td>\n",
       "      <td>0.000000</td>\n",
       "      <td>...</td>\n",
       "      <td>0.127633</td>\n",
       "      <td>0.084467</td>\n",
       "      <td>0.000000</td>\n",
       "      <td>0.210496</td>\n",
       "      <td>0.130467</td>\n",
       "      <td>0.155225</td>\n",
       "      <td>0.090607</td>\n",
       "      <td>0.054127</td>\n",
       "      <td>0.007437</td>\n",
       "      <td>0.219614</td>\n",
       "    </tr>\n",
       "    <tr>\n",
       "      <th>3</th>\n",
       "      <td>2859</td>\n",
       "      <td>0.105976</td>\n",
       "      <td>0.052500</td>\n",
       "      <td>0.001917</td>\n",
       "      <td>0.011531</td>\n",
       "      <td>0.042316</td>\n",
       "      <td>0.000000</td>\n",
       "      <td>0.000000</td>\n",
       "      <td>0.043604</td>\n",
       "      <td>0.510271</td>\n",
       "      <td>...</td>\n",
       "      <td>0.527583</td>\n",
       "      <td>0.000000</td>\n",
       "      <td>0.642226</td>\n",
       "      <td>0.132886</td>\n",
       "      <td>0.000000</td>\n",
       "      <td>0.570928</td>\n",
       "      <td>0.073492</td>\n",
       "      <td>0.378900</td>\n",
       "      <td>0.327677</td>\n",
       "      <td>0.586523</td>\n",
       "    </tr>\n",
       "    <tr>\n",
       "      <th>4</th>\n",
       "      <td>3685</td>\n",
       "      <td>0.130885</td>\n",
       "      <td>0.063492</td>\n",
       "      <td>0.024416</td>\n",
       "      <td>0.000000</td>\n",
       "      <td>0.150671</td>\n",
       "      <td>0.046717</td>\n",
       "      <td>0.254284</td>\n",
       "      <td>0.101479</td>\n",
       "      <td>0.000000</td>\n",
       "      <td>...</td>\n",
       "      <td>0.000000</td>\n",
       "      <td>0.206158</td>\n",
       "      <td>0.099058</td>\n",
       "      <td>0.152003</td>\n",
       "      <td>0.073357</td>\n",
       "      <td>0.147842</td>\n",
       "      <td>0.157676</td>\n",
       "      <td>0.012048</td>\n",
       "      <td>0.054223</td>\n",
       "      <td>0.017539</td>\n",
       "    </tr>\n",
       "    <tr>\n",
       "      <th>5</th>\n",
       "      <td>6443</td>\n",
       "      <td>0.280111</td>\n",
       "      <td>0.255778</td>\n",
       "      <td>0.174677</td>\n",
       "      <td>0.327109</td>\n",
       "      <td>0.052556</td>\n",
       "      <td>0.093938</td>\n",
       "      <td>0.000000</td>\n",
       "      <td>0.084180</td>\n",
       "      <td>0.438128</td>\n",
       "      <td>...</td>\n",
       "      <td>0.596844</td>\n",
       "      <td>0.550864</td>\n",
       "      <td>0.597998</td>\n",
       "      <td>0.039885</td>\n",
       "      <td>0.773661</td>\n",
       "      <td>0.681998</td>\n",
       "      <td>0.040244</td>\n",
       "      <td>0.377847</td>\n",
       "      <td>0.030631</td>\n",
       "      <td>0.000000</td>\n",
       "    </tr>\n",
       "    <tr>\n",
       "      <th>6</th>\n",
       "      <td>6889</td>\n",
       "      <td>0.065092</td>\n",
       "      <td>0.095285</td>\n",
       "      <td>0.317724</td>\n",
       "      <td>0.092715</td>\n",
       "      <td>0.210422</td>\n",
       "      <td>0.000000</td>\n",
       "      <td>0.103085</td>\n",
       "      <td>0.049388</td>\n",
       "      <td>0.566210</td>\n",
       "      <td>...</td>\n",
       "      <td>0.161205</td>\n",
       "      <td>0.108805</td>\n",
       "      <td>0.079312</td>\n",
       "      <td>0.032510</td>\n",
       "      <td>0.000000</td>\n",
       "      <td>0.095017</td>\n",
       "      <td>0.138907</td>\n",
       "      <td>0.030898</td>\n",
       "      <td>0.006197</td>\n",
       "      <td>0.170735</td>\n",
       "    </tr>\n",
       "    <tr>\n",
       "      <th>7</th>\n",
       "      <td>5703</td>\n",
       "      <td>0.019472</td>\n",
       "      <td>0.250000</td>\n",
       "      <td>0.000000</td>\n",
       "      <td>0.254601</td>\n",
       "      <td>0.000000</td>\n",
       "      <td>0.300878</td>\n",
       "      <td>0.153703</td>\n",
       "      <td>0.122723</td>\n",
       "      <td>0.352370</td>\n",
       "      <td>...</td>\n",
       "      <td>0.233836</td>\n",
       "      <td>0.019850</td>\n",
       "      <td>0.208412</td>\n",
       "      <td>0.230455</td>\n",
       "      <td>0.000000</td>\n",
       "      <td>0.011134</td>\n",
       "      <td>0.006577</td>\n",
       "      <td>0.073889</td>\n",
       "      <td>0.132709</td>\n",
       "      <td>0.114116</td>\n",
       "    </tr>\n",
       "    <tr>\n",
       "      <th>8</th>\n",
       "      <td>1112</td>\n",
       "      <td>0.140723</td>\n",
       "      <td>0.151389</td>\n",
       "      <td>0.084425</td>\n",
       "      <td>0.200453</td>\n",
       "      <td>0.031948</td>\n",
       "      <td>0.066672</td>\n",
       "      <td>0.091610</td>\n",
       "      <td>0.000000</td>\n",
       "      <td>0.321452</td>\n",
       "      <td>...</td>\n",
       "      <td>0.052141</td>\n",
       "      <td>0.000000</td>\n",
       "      <td>0.160664</td>\n",
       "      <td>0.082408</td>\n",
       "      <td>0.004456</td>\n",
       "      <td>0.057482</td>\n",
       "      <td>0.225484</td>\n",
       "      <td>0.237937</td>\n",
       "      <td>0.153852</td>\n",
       "      <td>0.164892</td>\n",
       "    </tr>\n",
       "    <tr>\n",
       "      <th>9</th>\n",
       "      <td>776</td>\n",
       "      <td>0.259478</td>\n",
       "      <td>0.275341</td>\n",
       "      <td>0.206800</td>\n",
       "      <td>0.113008</td>\n",
       "      <td>0.101093</td>\n",
       "      <td>0.280849</td>\n",
       "      <td>0.040560</td>\n",
       "      <td>0.043373</td>\n",
       "      <td>0.231380</td>\n",
       "      <td>...</td>\n",
       "      <td>0.052068</td>\n",
       "      <td>0.000000</td>\n",
       "      <td>0.008591</td>\n",
       "      <td>0.095069</td>\n",
       "      <td>0.251147</td>\n",
       "      <td>0.025550</td>\n",
       "      <td>0.049767</td>\n",
       "      <td>0.047431</td>\n",
       "      <td>0.000000</td>\n",
       "      <td>0.214064</td>\n",
       "    </tr>\n",
       "  </tbody>\n",
       "</table>\n",
       "<p>10 rows × 70 columns</p>\n",
       "</div>"
      ],
      "text/plain": [
       "     id  nd_mean_2021-04-16  nd_mean_2021-04-19  nd_mean_2021-04-22  \\\n",
       "0  3536            0.072846            0.261778            0.062981   \n",
       "1  3739            0.332928            0.287182            0.097138   \n",
       "2  1294            0.013679            0.007055            0.120804   \n",
       "3  2859            0.105976            0.052500            0.001917   \n",
       "4  3685            0.130885            0.063492            0.024416   \n",
       "5  6443            0.280111            0.255778            0.174677   \n",
       "6  6889            0.065092            0.095285            0.317724   \n",
       "7  5703            0.019472            0.250000            0.000000   \n",
       "8  1112            0.140723            0.151389            0.084425   \n",
       "9   776            0.259478            0.275341            0.206800   \n",
       "\n",
       "   nd_mean_2021-04-26  nd_mean_2021-04-28  nd_mean_2021-05-02  \\\n",
       "0            0.104442            0.021096            0.052202   \n",
       "1            0.152467            0.075484            0.000000   \n",
       "2            0.037839            0.259125            0.000000   \n",
       "3            0.011531            0.042316            0.000000   \n",
       "4            0.000000            0.150671            0.046717   \n",
       "5            0.327109            0.052556            0.093938   \n",
       "6            0.092715            0.210422            0.000000   \n",
       "7            0.254601            0.000000            0.300878   \n",
       "8            0.200453            0.031948            0.066672   \n",
       "9            0.113008            0.101093            0.280849   \n",
       "\n",
       "   nd_mean_2021-05-04  nd_mean_2021-05-07  nd_mean_2021-05-16  ...  \\\n",
       "0            0.158723            0.000000            0.484102  ...   \n",
       "1            0.140326            0.163340            0.519456  ...   \n",
       "2            0.037446            0.506516            0.000000  ...   \n",
       "3            0.000000            0.043604            0.510271  ...   \n",
       "4            0.254284            0.101479            0.000000  ...   \n",
       "5            0.000000            0.084180            0.438128  ...   \n",
       "6            0.103085            0.049388            0.566210  ...   \n",
       "7            0.153703            0.122723            0.352370  ...   \n",
       "8            0.091610            0.000000            0.321452  ...   \n",
       "9            0.040560            0.043373            0.231380  ...   \n",
       "\n",
       "   nd_mean_2021-05-19  nd_mean_2021-05-20  nd_mean_2021-06-04  \\\n",
       "0            0.425571            0.108999            0.118854   \n",
       "1            0.248935            0.134469            0.208268   \n",
       "2            0.127633            0.084467            0.000000   \n",
       "3            0.527583            0.000000            0.642226   \n",
       "4            0.000000            0.206158            0.099058   \n",
       "5            0.596844            0.550864            0.597998   \n",
       "6            0.161205            0.108805            0.079312   \n",
       "7            0.233836            0.019850            0.208412   \n",
       "8            0.052141            0.000000            0.160664   \n",
       "9            0.052068            0.000000            0.008591   \n",
       "\n",
       "   nd_mean_2021-06-05  nd_mean_2021-06-10  nd_mean_2021-07-05  \\\n",
       "0            0.000000            0.000000            0.026784   \n",
       "1            0.000000            0.000000            0.111148   \n",
       "2            0.210496            0.130467            0.155225   \n",
       "3            0.132886            0.000000            0.570928   \n",
       "4            0.152003            0.073357            0.147842   \n",
       "5            0.039885            0.773661            0.681998   \n",
       "6            0.032510            0.000000            0.095017   \n",
       "7            0.230455            0.000000            0.011134   \n",
       "8            0.082408            0.004456            0.057482   \n",
       "9            0.095069            0.251147            0.025550   \n",
       "\n",
       "   nd_mean_2021-08-13  nd_mean_2021-08-27  nd_mean_2021-05-08  \\\n",
       "0            0.126832            0.614770            0.008857   \n",
       "1            0.174914            0.179612            0.113071   \n",
       "2            0.090607            0.054127            0.007437   \n",
       "3            0.073492            0.378900            0.327677   \n",
       "4            0.157676            0.012048            0.054223   \n",
       "5            0.040244            0.377847            0.030631   \n",
       "6            0.138907            0.030898            0.006197   \n",
       "7            0.006577            0.073889            0.132709   \n",
       "8            0.225484            0.237937            0.153852   \n",
       "9            0.049767            0.047431            0.000000   \n",
       "\n",
       "   nd_mean_2021-05-24  \n",
       "0            0.081498  \n",
       "1            0.046997  \n",
       "2            0.219614  \n",
       "3            0.586523  \n",
       "4            0.017539  \n",
       "5            0.000000  \n",
       "6            0.170735  \n",
       "7            0.114116  \n",
       "8            0.164892  \n",
       "9            0.214064  \n",
       "\n",
       "[10 rows x 70 columns]"
      ]
     },
     "execution_count": 9,
     "metadata": {},
     "output_type": "execute_result"
    }
   ],
   "source": [
    "df_train[cols].head(10).sort_index(ascending=True)"
   ]
  },
  {
   "cell_type": "code",
   "execution_count": 10,
   "metadata": {
    "colab": {
     "base_uri": "https://localhost:8080/",
     "height": 395
    },
    "id": "XM6AFQQkadt0",
    "outputId": "150473eb-b9ca-4b48-eedb-f332449cce3f"
   },
   "outputs": [
    {
     "data": {
      "image/png": "[encoded data removed]",
      "text/plain": [
       "<Figure size 432x288 with 2 Axes>"
      ]
     },
     "metadata": {
      "needs_background": "light"
     },
     "output_type": "display_data"
    }
   ],
   "source": [
    "sns.heatmap(df_train.corr())\n",
    "plt.title('Корреляция признаков', fontsize=14)\n",
    "\n",
    "plt.show()"
   ]
  },
  {
   "cell_type": "markdown",
   "metadata": {
    "id": "JxuZgb48MAmk"
   },
   "source": [
    "Явных зависимостей не выявлено. Приступлю к замене значений временных рядов у которых есть пропуски и они заменены нулями."
   ]
  },
  {
   "cell_type": "code",
   "execution_count": 11,
   "metadata": {
    "id": "OijBw_kDT-MR"
   },
   "outputs": [],
   "source": [
    "df_new_train = df_train.copy()"
   ]
  },
  {
   "cell_type": "markdown",
   "metadata": {
    "id": "IxlwadxuhS0Q"
   },
   "source": [
    "Пропуски заполнены нулевыми значениями, так же есть отрицательные значения, хотя диапазон nd mean от 0 до 1."
   ]
  },
  {
   "cell_type": "code",
   "execution_count": 12,
   "metadata": {
    "id": "e5uwzucsXo3Q"
   },
   "outputs": [],
   "source": [
    "# все отрицательные и нулевые значения заменю на NaN\n",
    "df_new_train[df_new_train[cols] <= 0] = np.nan"
   ]
  },
  {
   "cell_type": "code",
   "execution_count": 13,
   "metadata": {
    "colab": {
     "base_uri": "https://localhost:8080/"
    },
    "id": "SmyTiZsmStfk",
    "outputId": "a5174686-392d-4832-9d8a-18c4f6e7ae56"
   },
   "outputs": [
    {
     "data": {
      "text/plain": [
       "0    726\n",
       "1    700\n",
       "2    697\n",
       "3    655\n",
       "4    718\n",
       "5    668\n",
       "6    666\n",
       "Name: crop, dtype: int64"
      ]
     },
     "execution_count": 13,
     "metadata": {},
     "output_type": "execute_result"
    }
   ],
   "source": [
    "df_new_train['crop'].value_counts().sort_index(ascending=True)"
   ]
  },
  {
   "cell_type": "code",
   "execution_count": 14,
   "metadata": {
    "id": "_Gp7iAL110LP"
   },
   "outputs": [],
   "source": [
    "# все наны преобразую в среднее значение\n",
    "for i in df_new_train.columns[df_new_train.isnull().any(axis=0)]:\n",
    "    df_new_train[i].fillna(df_new_train[i].mean(),inplace=True)"
   ]
  },
  {
   "cell_type": "code",
   "execution_count": 15,
   "metadata": {
    "colab": {
     "base_uri": "https://localhost:8080/",
     "height": 1000
    },
    "id": "wxGJwpGgkos8",
    "outputId": "f062a8cd-065b-4535-b890-94320b35e783"
   },
   "outputs": [
    {
     "name": "stdout",
     "output_type": "stream",
     "text": [
      "Общая информация\n",
      "\n",
      "<class 'pandas.core.frame.DataFrame'>\n",
      "RangeIndex: 4830 entries, 0 to 4829\n",
      "Data columns (total 74 columns):\n",
      " #   Column              Non-Null Count  Dtype  \n",
      "---  ------              --------------  -----  \n",
      " 0   id                  4830 non-null   float64\n",
      " 1   area                4830 non-null   int64  \n",
      " 2   nd_mean_2021-04-16  4830 non-null   float64\n",
      " 3   nd_mean_2021-04-19  4830 non-null   float64\n",
      " 4   nd_mean_2021-04-22  4830 non-null   float64\n",
      " 5   nd_mean_2021-04-26  4830 non-null   float64\n",
      " 6   nd_mean_2021-04-28  4830 non-null   float64\n",
      " 7   nd_mean_2021-05-02  4830 non-null   float64\n",
      " 8   nd_mean_2021-05-04  4830 non-null   float64\n",
      " 9   nd_mean_2021-05-07  4830 non-null   float64\n",
      " 10  nd_mean_2021-05-16  4830 non-null   float64\n",
      " 11  nd_mean_2021-05-17  4830 non-null   float64\n",
      " 12  nd_mean_2021-05-21  4830 non-null   float64\n",
      " 13  nd_mean_2021-05-26  4830 non-null   float64\n",
      " 14  nd_mean_2021-05-27  4830 non-null   float64\n",
      " 15  nd_mean_2021-05-29  4830 non-null   float64\n",
      " 16  nd_mean_2021-06-06  4830 non-null   float64\n",
      " 17  nd_mean_2021-06-09  4830 non-null   float64\n",
      " 18  nd_mean_2021-06-13  4830 non-null   float64\n",
      " 19  nd_mean_2021-06-16  4830 non-null   float64\n",
      " 20  nd_mean_2021-06-18  4830 non-null   float64\n",
      " 21  nd_mean_2021-06-19  4830 non-null   float64\n",
      " 22  nd_mean_2021-06-20  4830 non-null   float64\n",
      " 23  nd_mean_2021-06-22  4830 non-null   float64\n",
      " 24  nd_mean_2021-06-25  4830 non-null   float64\n",
      " 25  nd_mean_2021-06-27  4830 non-null   float64\n",
      " 26  nd_mean_2021-07-07  4830 non-null   float64\n",
      " 27  nd_mean_2021-07-08  4830 non-null   float64\n",
      " 28  nd_mean_2021-07-09  4830 non-null   float64\n",
      " 29  nd_mean_2021-07-13  4830 non-null   float64\n",
      " 30  nd_mean_2021-07-15  4830 non-null   float64\n",
      " 31  nd_mean_2021-07-17  4830 non-null   float64\n",
      " 32  nd_mean_2021-07-20  4830 non-null   float64\n",
      " 33  nd_mean_2021-07-26  4830 non-null   float64\n",
      " 34  nd_mean_2021-07-27  4830 non-null   float64\n",
      " 35  nd_mean_2021-07-29  4830 non-null   float64\n",
      " 36  nd_mean_2021-07-31  4830 non-null   float64\n",
      " 37  nd_mean_2021-08-07  4830 non-null   float64\n",
      " 38  nd_mean_2021-08-12  4830 non-null   float64\n",
      " 39  .geo                4830 non-null   object \n",
      " 40  nd_mean_2021-04-15  4830 non-null   float64\n",
      " 41  nd_mean_2021-04-18  4830 non-null   float64\n",
      " 42  nd_mean_2021-04-25  4830 non-null   float64\n",
      " 43  nd_mean_2021-04-27  4830 non-null   float64\n",
      " 44  nd_mean_2021-04-29  4830 non-null   float64\n",
      " 45  nd_mean_2021-04-30  4830 non-null   float64\n",
      " 46  nd_mean_2021-06-07  4830 non-null   float64\n",
      " 47  nd_mean_2021-06-12  4830 non-null   float64\n",
      " 48  nd_mean_2021-06-28  4830 non-null   float64\n",
      " 49  nd_mean_2021-08-01  4830 non-null   float64\n",
      " 50  nd_mean_2021-08-11  4830 non-null   float64\n",
      " 51  nd_mean_2021-05-01  4830 non-null   float64\n",
      " 52  nd_mean_2021-05-03  4830 non-null   float64\n",
      " 53  nd_mean_2021-05-10  4830 non-null   float64\n",
      " 54  nd_mean_2021-05-15  4830 non-null   float64\n",
      " 55  nd_mean_2021-06-02  4830 non-null   float64\n",
      " 56  nd_mean_2021-06-03  4830 non-null   float64\n",
      " 57  nd_mean_2021-07-04  4830 non-null   float64\n",
      " 58  nd_mean_2021-08-10  4830 non-null   float64\n",
      " 59  nd_mean_2021-08-23  4830 non-null   float64\n",
      " 60  nd_mean_2021-04-20  4830 non-null   float64\n",
      " 61  nd_mean_2021-04-23  4830 non-null   float64\n",
      " 62  nd_mean_2021-05-09  4830 non-null   float64\n",
      " 63  nd_mean_2021-05-19  4830 non-null   float64\n",
      " 64  nd_mean_2021-05-20  4830 non-null   float64\n",
      " 65  nd_mean_2021-06-04  4830 non-null   float64\n",
      " 66  nd_mean_2021-06-05  4830 non-null   float64\n",
      " 67  nd_mean_2021-06-10  4830 non-null   float64\n",
      " 68  nd_mean_2021-07-05  4830 non-null   float64\n",
      " 69  nd_mean_2021-08-13  4830 non-null   float64\n",
      " 70  nd_mean_2021-08-27  4830 non-null   float64\n",
      " 71  nd_mean_2021-05-08  4830 non-null   float64\n",
      " 72  nd_mean_2021-05-24  4830 non-null   float64\n",
      " 73  crop                4830 non-null   int64  \n",
      "dtypes: float64(71), int64(2), object(1)\n",
      "memory usage: 2.7+ MB\n"
     ]
    },
    {
     "data": {
      "text/plain": [
       "None"
      ]
     },
     "metadata": {},
     "output_type": "display_data"
    },
    {
     "name": "stdout",
     "output_type": "stream",
     "text": [
      "Первые строки датасета\n",
      "\n"
     ]
    },
    {
     "data": {
      "text/html": [
       "<div>\n",
       "<style scoped>\n",
       "    .dataframe tbody tr th:only-of-type {\n",
       "        vertical-align: middle;\n",
       "    }\n",
       "\n",
       "    .dataframe tbody tr th {\n",
       "        vertical-align: top;\n",
       "    }\n",
       "\n",
       "    .dataframe thead th {\n",
       "        text-align: right;\n",
       "    }\n",
       "</style>\n",
       "<table border=\"1\" class=\"dataframe\">\n",
       "  <thead>\n",
       "    <tr style=\"text-align: right;\">\n",
       "      <th></th>\n",
       "      <th>id</th>\n",
       "      <th>area</th>\n",
       "      <th>nd_mean_2021-04-16</th>\n",
       "      <th>nd_mean_2021-04-19</th>\n",
       "      <th>nd_mean_2021-04-22</th>\n",
       "      <th>nd_mean_2021-04-26</th>\n",
       "      <th>nd_mean_2021-04-28</th>\n",
       "      <th>nd_mean_2021-05-02</th>\n",
       "      <th>nd_mean_2021-05-04</th>\n",
       "      <th>nd_mean_2021-05-07</th>\n",
       "      <th>...</th>\n",
       "      <th>nd_mean_2021-05-20</th>\n",
       "      <th>nd_mean_2021-06-04</th>\n",
       "      <th>nd_mean_2021-06-05</th>\n",
       "      <th>nd_mean_2021-06-10</th>\n",
       "      <th>nd_mean_2021-07-05</th>\n",
       "      <th>nd_mean_2021-08-13</th>\n",
       "      <th>nd_mean_2021-08-27</th>\n",
       "      <th>nd_mean_2021-05-08</th>\n",
       "      <th>nd_mean_2021-05-24</th>\n",
       "      <th>crop</th>\n",
       "    </tr>\n",
       "  </thead>\n",
       "  <tbody>\n",
       "    <tr>\n",
       "      <th>0</th>\n",
       "      <td>3536.0</td>\n",
       "      <td>20</td>\n",
       "      <td>0.072846</td>\n",
       "      <td>0.261778</td>\n",
       "      <td>0.062981</td>\n",
       "      <td>0.104442</td>\n",
       "      <td>0.021096</td>\n",
       "      <td>0.052202</td>\n",
       "      <td>0.158723</td>\n",
       "      <td>0.133690</td>\n",
       "      <td>...</td>\n",
       "      <td>0.108999</td>\n",
       "      <td>0.118854</td>\n",
       "      <td>0.137838</td>\n",
       "      <td>0.171041</td>\n",
       "      <td>0.026784</td>\n",
       "      <td>0.126832</td>\n",
       "      <td>0.614770</td>\n",
       "      <td>0.008857</td>\n",
       "      <td>0.081498</td>\n",
       "      <td>3</td>\n",
       "    </tr>\n",
       "    <tr>\n",
       "      <th>1</th>\n",
       "      <td>3739.0</td>\n",
       "      <td>45</td>\n",
       "      <td>0.332928</td>\n",
       "      <td>0.287182</td>\n",
       "      <td>0.097138</td>\n",
       "      <td>0.152467</td>\n",
       "      <td>0.075484</td>\n",
       "      <td>0.185044</td>\n",
       "      <td>0.140326</td>\n",
       "      <td>0.163340</td>\n",
       "      <td>...</td>\n",
       "      <td>0.134469</td>\n",
       "      <td>0.208268</td>\n",
       "      <td>0.137838</td>\n",
       "      <td>0.171041</td>\n",
       "      <td>0.111148</td>\n",
       "      <td>0.174914</td>\n",
       "      <td>0.179612</td>\n",
       "      <td>0.113071</td>\n",
       "      <td>0.046997</td>\n",
       "      <td>4</td>\n",
       "    </tr>\n",
       "    <tr>\n",
       "      <th>2</th>\n",
       "      <td>1294.0</td>\n",
       "      <td>28</td>\n",
       "      <td>0.013679</td>\n",
       "      <td>0.007055</td>\n",
       "      <td>0.120804</td>\n",
       "      <td>0.037839</td>\n",
       "      <td>0.259125</td>\n",
       "      <td>0.185044</td>\n",
       "      <td>0.037446</td>\n",
       "      <td>0.506516</td>\n",
       "      <td>...</td>\n",
       "      <td>0.084467</td>\n",
       "      <td>0.201038</td>\n",
       "      <td>0.210496</td>\n",
       "      <td>0.130467</td>\n",
       "      <td>0.155225</td>\n",
       "      <td>0.090607</td>\n",
       "      <td>0.054127</td>\n",
       "      <td>0.007437</td>\n",
       "      <td>0.219614</td>\n",
       "      <td>2</td>\n",
       "    </tr>\n",
       "    <tr>\n",
       "      <th>3</th>\n",
       "      <td>2859.0</td>\n",
       "      <td>19</td>\n",
       "      <td>0.105976</td>\n",
       "      <td>0.052500</td>\n",
       "      <td>0.001917</td>\n",
       "      <td>0.011531</td>\n",
       "      <td>0.042316</td>\n",
       "      <td>0.185044</td>\n",
       "      <td>0.114313</td>\n",
       "      <td>0.043604</td>\n",
       "      <td>...</td>\n",
       "      <td>0.183758</td>\n",
       "      <td>0.642226</td>\n",
       "      <td>0.132886</td>\n",
       "      <td>0.171041</td>\n",
       "      <td>0.570928</td>\n",
       "      <td>0.073492</td>\n",
       "      <td>0.378900</td>\n",
       "      <td>0.327677</td>\n",
       "      <td>0.586523</td>\n",
       "      <td>5</td>\n",
       "    </tr>\n",
       "    <tr>\n",
       "      <th>4</th>\n",
       "      <td>3685.0</td>\n",
       "      <td>33</td>\n",
       "      <td>0.130885</td>\n",
       "      <td>0.063492</td>\n",
       "      <td>0.024416</td>\n",
       "      <td>0.185503</td>\n",
       "      <td>0.150671</td>\n",
       "      <td>0.046717</td>\n",
       "      <td>0.254284</td>\n",
       "      <td>0.101479</td>\n",
       "      <td>...</td>\n",
       "      <td>0.206158</td>\n",
       "      <td>0.099058</td>\n",
       "      <td>0.152003</td>\n",
       "      <td>0.073357</td>\n",
       "      <td>0.147842</td>\n",
       "      <td>0.157676</td>\n",
       "      <td>0.012048</td>\n",
       "      <td>0.054223</td>\n",
       "      <td>0.017539</td>\n",
       "      <td>4</td>\n",
       "    </tr>\n",
       "  </tbody>\n",
       "</table>\n",
       "<p>5 rows × 74 columns</p>\n",
       "</div>"
      ],
      "text/plain": [
       "       id  area  nd_mean_2021-04-16  nd_mean_2021-04-19  nd_mean_2021-04-22  \\\n",
       "0  3536.0    20            0.072846            0.261778            0.062981   \n",
       "1  3739.0    45            0.332928            0.287182            0.097138   \n",
       "2  1294.0    28            0.013679            0.007055            0.120804   \n",
       "3  2859.0    19            0.105976            0.052500            0.001917   \n",
       "4  3685.0    33            0.130885            0.063492            0.024416   \n",
       "\n",
       "   nd_mean_2021-04-26  nd_mean_2021-04-28  nd_mean_2021-05-02  \\\n",
       "0            0.104442            0.021096            0.052202   \n",
       "1            0.152467            0.075484            0.185044   \n",
       "2            0.037839            0.259125            0.185044   \n",
       "3            0.011531            0.042316            0.185044   \n",
       "4            0.185503            0.150671            0.046717   \n",
       "\n",
       "   nd_mean_2021-05-04  nd_mean_2021-05-07  ...  nd_mean_2021-05-20  \\\n",
       "0            0.158723            0.133690  ...            0.108999   \n",
       "1            0.140326            0.163340  ...            0.134469   \n",
       "2            0.037446            0.506516  ...            0.084467   \n",
       "3            0.114313            0.043604  ...            0.183758   \n",
       "4            0.254284            0.101479  ...            0.206158   \n",
       "\n",
       "   nd_mean_2021-06-04  nd_mean_2021-06-05  nd_mean_2021-06-10  \\\n",
       "0            0.118854            0.137838            0.171041   \n",
       "1            0.208268            0.137838            0.171041   \n",
       "2            0.201038            0.210496            0.130467   \n",
       "3            0.642226            0.132886            0.171041   \n",
       "4            0.099058            0.152003            0.073357   \n",
       "\n",
       "   nd_mean_2021-07-05  nd_mean_2021-08-13  nd_mean_2021-08-27  \\\n",
       "0            0.026784            0.126832            0.614770   \n",
       "1            0.111148            0.174914            0.179612   \n",
       "2            0.155225            0.090607            0.054127   \n",
       "3            0.570928            0.073492            0.378900   \n",
       "4            0.147842            0.157676            0.012048   \n",
       "\n",
       "   nd_mean_2021-05-08  nd_mean_2021-05-24  crop  \n",
       "0            0.008857            0.081498     3  \n",
       "1            0.113071            0.046997     4  \n",
       "2            0.007437            0.219614     2  \n",
       "3            0.327677            0.586523     5  \n",
       "4            0.054223            0.017539     4  \n",
       "\n",
       "[5 rows x 74 columns]"
      ]
     },
     "metadata": {},
     "output_type": "display_data"
    },
    {
     "name": "stdout",
     "output_type": "stream",
     "text": [
      "Описательная статистика\n",
      "\n"
     ]
    },
    {
     "data": {
      "text/html": [
       "<div>\n",
       "<style scoped>\n",
       "    .dataframe tbody tr th:only-of-type {\n",
       "        vertical-align: middle;\n",
       "    }\n",
       "\n",
       "    .dataframe tbody tr th {\n",
       "        vertical-align: top;\n",
       "    }\n",
       "\n",
       "    .dataframe thead th {\n",
       "        text-align: right;\n",
       "    }\n",
       "</style>\n",
       "<table border=\"1\" class=\"dataframe\">\n",
       "  <thead>\n",
       "    <tr style=\"text-align: right;\">\n",
       "      <th></th>\n",
       "      <th>id</th>\n",
       "      <th>area</th>\n",
       "      <th>nd_mean_2021-04-16</th>\n",
       "      <th>nd_mean_2021-04-19</th>\n",
       "      <th>nd_mean_2021-04-22</th>\n",
       "      <th>nd_mean_2021-04-26</th>\n",
       "      <th>nd_mean_2021-04-28</th>\n",
       "      <th>nd_mean_2021-05-02</th>\n",
       "      <th>nd_mean_2021-05-04</th>\n",
       "      <th>nd_mean_2021-05-07</th>\n",
       "      <th>...</th>\n",
       "      <th>nd_mean_2021-05-20</th>\n",
       "      <th>nd_mean_2021-06-04</th>\n",
       "      <th>nd_mean_2021-06-05</th>\n",
       "      <th>nd_mean_2021-06-10</th>\n",
       "      <th>nd_mean_2021-07-05</th>\n",
       "      <th>nd_mean_2021-08-13</th>\n",
       "      <th>nd_mean_2021-08-27</th>\n",
       "      <th>nd_mean_2021-05-08</th>\n",
       "      <th>nd_mean_2021-05-24</th>\n",
       "      <th>crop</th>\n",
       "    </tr>\n",
       "  </thead>\n",
       "  <tbody>\n",
       "    <tr>\n",
       "      <th>count</th>\n",
       "      <td>4830.000000</td>\n",
       "      <td>4830.000000</td>\n",
       "      <td>4830.000000</td>\n",
       "      <td>4830.000000</td>\n",
       "      <td>4830.000000</td>\n",
       "      <td>4830.000000</td>\n",
       "      <td>4830.000000</td>\n",
       "      <td>4830.000000</td>\n",
       "      <td>4830.000000</td>\n",
       "      <td>4830.000000</td>\n",
       "      <td>...</td>\n",
       "      <td>4830.000000</td>\n",
       "      <td>4830.000000</td>\n",
       "      <td>4830.000000</td>\n",
       "      <td>4830.000000</td>\n",
       "      <td>4830.000000</td>\n",
       "      <td>4830.000000</td>\n",
       "      <td>4830.000000</td>\n",
       "      <td>4830.000000</td>\n",
       "      <td>4830.000000</td>\n",
       "      <td>4830.000000</td>\n",
       "    </tr>\n",
       "    <tr>\n",
       "      <th>mean</th>\n",
       "      <td>3474.125492</td>\n",
       "      <td>53.871429</td>\n",
       "      <td>0.169452</td>\n",
       "      <td>0.140483</td>\n",
       "      <td>0.178529</td>\n",
       "      <td>0.185503</td>\n",
       "      <td>0.146544</td>\n",
       "      <td>0.185044</td>\n",
       "      <td>0.114313</td>\n",
       "      <td>0.133690</td>\n",
       "      <td>...</td>\n",
       "      <td>0.183758</td>\n",
       "      <td>0.201038</td>\n",
       "      <td>0.137838</td>\n",
       "      <td>0.171041</td>\n",
       "      <td>0.207430</td>\n",
       "      <td>0.148811</td>\n",
       "      <td>0.172921</td>\n",
       "      <td>0.129420</td>\n",
       "      <td>0.147792</td>\n",
       "      <td>2.953830</td>\n",
       "    </tr>\n",
       "    <tr>\n",
       "      <th>std</th>\n",
       "      <td>1984.364272</td>\n",
       "      <td>34.191660</td>\n",
       "      <td>0.098733</td>\n",
       "      <td>0.089868</td>\n",
       "      <td>0.124024</td>\n",
       "      <td>0.109825</td>\n",
       "      <td>0.105534</td>\n",
       "      <td>0.131759</td>\n",
       "      <td>0.083859</td>\n",
       "      <td>0.109181</td>\n",
       "      <td>...</td>\n",
       "      <td>0.172158</td>\n",
       "      <td>0.206524</td>\n",
       "      <td>0.140835</td>\n",
       "      <td>0.179367</td>\n",
       "      <td>0.214995</td>\n",
       "      <td>0.139996</td>\n",
       "      <td>0.149834</td>\n",
       "      <td>0.096913</td>\n",
       "      <td>0.143980</td>\n",
       "      <td>2.004587</td>\n",
       "    </tr>\n",
       "    <tr>\n",
       "      <th>min</th>\n",
       "      <td>1.000000</td>\n",
       "      <td>10.000000</td>\n",
       "      <td>0.000441</td>\n",
       "      <td>0.000222</td>\n",
       "      <td>0.000527</td>\n",
       "      <td>0.000390</td>\n",
       "      <td>0.000354</td>\n",
       "      <td>0.000267</td>\n",
       "      <td>0.000284</td>\n",
       "      <td>0.000211</td>\n",
       "      <td>...</td>\n",
       "      <td>0.000336</td>\n",
       "      <td>0.000171</td>\n",
       "      <td>0.000207</td>\n",
       "      <td>0.000405</td>\n",
       "      <td>0.000261</td>\n",
       "      <td>0.000285</td>\n",
       "      <td>0.000091</td>\n",
       "      <td>0.000126</td>\n",
       "      <td>0.000203</td>\n",
       "      <td>0.000000</td>\n",
       "    </tr>\n",
       "    <tr>\n",
       "      <th>25%</th>\n",
       "      <td>1774.500000</td>\n",
       "      <td>26.000000</td>\n",
       "      <td>0.089240</td>\n",
       "      <td>0.066971</td>\n",
       "      <td>0.083158</td>\n",
       "      <td>0.094366</td>\n",
       "      <td>0.065036</td>\n",
       "      <td>0.077021</td>\n",
       "      <td>0.055371</td>\n",
       "      <td>0.057481</td>\n",
       "      <td>...</td>\n",
       "      <td>0.063236</td>\n",
       "      <td>0.062865</td>\n",
       "      <td>0.055047</td>\n",
       "      <td>0.056469</td>\n",
       "      <td>0.062351</td>\n",
       "      <td>0.058238</td>\n",
       "      <td>0.062928</td>\n",
       "      <td>0.058067</td>\n",
       "      <td>0.055871</td>\n",
       "      <td>1.000000</td>\n",
       "    </tr>\n",
       "    <tr>\n",
       "      <th>50%</th>\n",
       "      <td>3489.500000</td>\n",
       "      <td>45.000000</td>\n",
       "      <td>0.169452</td>\n",
       "      <td>0.140483</td>\n",
       "      <td>0.171480</td>\n",
       "      <td>0.185503</td>\n",
       "      <td>0.146544</td>\n",
       "      <td>0.179421</td>\n",
       "      <td>0.114313</td>\n",
       "      <td>0.133690</td>\n",
       "      <td>...</td>\n",
       "      <td>0.146948</td>\n",
       "      <td>0.145439</td>\n",
       "      <td>0.125763</td>\n",
       "      <td>0.133139</td>\n",
       "      <td>0.148611</td>\n",
       "      <td>0.134479</td>\n",
       "      <td>0.148893</td>\n",
       "      <td>0.129420</td>\n",
       "      <td>0.134762</td>\n",
       "      <td>3.000000</td>\n",
       "    </tr>\n",
       "    <tr>\n",
       "      <th>75%</th>\n",
       "      <td>5191.750000</td>\n",
       "      <td>76.000000</td>\n",
       "      <td>0.245596</td>\n",
       "      <td>0.202955</td>\n",
       "      <td>0.241323</td>\n",
       "      <td>0.269131</td>\n",
       "      <td>0.192070</td>\n",
       "      <td>0.277772</td>\n",
       "      <td>0.143207</td>\n",
       "      <td>0.162079</td>\n",
       "      <td>...</td>\n",
       "      <td>0.189195</td>\n",
       "      <td>0.201038</td>\n",
       "      <td>0.149199</td>\n",
       "      <td>0.171041</td>\n",
       "      <td>0.207430</td>\n",
       "      <td>0.162134</td>\n",
       "      <td>0.198258</td>\n",
       "      <td>0.162584</td>\n",
       "      <td>0.158424</td>\n",
       "      <td>5.000000</td>\n",
       "    </tr>\n",
       "    <tr>\n",
       "      <th>max</th>\n",
       "      <td>6900.000000</td>\n",
       "      <td>140.000000</td>\n",
       "      <td>0.987671</td>\n",
       "      <td>0.760245</td>\n",
       "      <td>0.764437</td>\n",
       "      <td>0.983779</td>\n",
       "      <td>0.668150</td>\n",
       "      <td>0.970286</td>\n",
       "      <td>0.779277</td>\n",
       "      <td>0.782066</td>\n",
       "      <td>...</td>\n",
       "      <td>0.835639</td>\n",
       "      <td>0.892481</td>\n",
       "      <td>0.867968</td>\n",
       "      <td>0.946030</td>\n",
       "      <td>0.939444</td>\n",
       "      <td>0.896011</td>\n",
       "      <td>0.786905</td>\n",
       "      <td>0.766119</td>\n",
       "      <td>0.835383</td>\n",
       "      <td>6.000000</td>\n",
       "    </tr>\n",
       "  </tbody>\n",
       "</table>\n",
       "<p>8 rows × 73 columns</p>\n",
       "</div>"
      ],
      "text/plain": [
       "                id         area  nd_mean_2021-04-16  nd_mean_2021-04-19  \\\n",
       "count  4830.000000  4830.000000         4830.000000         4830.000000   \n",
       "mean   3474.125492    53.871429            0.169452            0.140483   \n",
       "std    1984.364272    34.191660            0.098733            0.089868   \n",
       "min       1.000000    10.000000            0.000441            0.000222   \n",
       "25%    1774.500000    26.000000            0.089240            0.066971   \n",
       "50%    3489.500000    45.000000            0.169452            0.140483   \n",
       "75%    5191.750000    76.000000            0.245596            0.202955   \n",
       "max    6900.000000   140.000000            0.987671            0.760245   \n",
       "\n",
       "       nd_mean_2021-04-22  nd_mean_2021-04-26  nd_mean_2021-04-28  \\\n",
       "count         4830.000000         4830.000000         4830.000000   \n",
       "mean             0.178529            0.185503            0.146544   \n",
       "std              0.124024            0.109825            0.105534   \n",
       "min              0.000527            0.000390            0.000354   \n",
       "25%              0.083158            0.094366            0.065036   \n",
       "50%              0.171480            0.185503            0.146544   \n",
       "75%              0.241323            0.269131            0.192070   \n",
       "max              0.764437            0.983779            0.668150   \n",
       "\n",
       "       nd_mean_2021-05-02  nd_mean_2021-05-04  nd_mean_2021-05-07  ...  \\\n",
       "count         4830.000000         4830.000000         4830.000000  ...   \n",
       "mean             0.185044            0.114313            0.133690  ...   \n",
       "std              0.131759            0.083859            0.109181  ...   \n",
       "min              0.000267            0.000284            0.000211  ...   \n",
       "25%              0.077021            0.055371            0.057481  ...   \n",
       "50%              0.179421            0.114313            0.133690  ...   \n",
       "75%              0.277772            0.143207            0.162079  ...   \n",
       "max              0.970286            0.779277            0.782066  ...   \n",
       "\n",
       "       nd_mean_2021-05-20  nd_mean_2021-06-04  nd_mean_2021-06-05  \\\n",
       "count         4830.000000         4830.000000         4830.000000   \n",
       "mean             0.183758            0.201038            0.137838   \n",
       "std              0.172158            0.206524            0.140835   \n",
       "min              0.000336            0.000171            0.000207   \n",
       "25%              0.063236            0.062865            0.055047   \n",
       "50%              0.146948            0.145439            0.125763   \n",
       "75%              0.189195            0.201038            0.149199   \n",
       "max              0.835639            0.892481            0.867968   \n",
       "\n",
       "       nd_mean_2021-06-10  nd_mean_2021-07-05  nd_mean_2021-08-13  \\\n",
       "count         4830.000000         4830.000000         4830.000000   \n",
       "mean             0.171041            0.207430            0.148811   \n",
       "std              0.179367            0.214995            0.139996   \n",
       "min              0.000405            0.000261            0.000285   \n",
       "25%              0.056469            0.062351            0.058238   \n",
       "50%              0.133139            0.148611            0.134479   \n",
       "75%              0.171041            0.207430            0.162134   \n",
       "max              0.946030            0.939444            0.896011   \n",
       "\n",
       "       nd_mean_2021-08-27  nd_mean_2021-05-08  nd_mean_2021-05-24         crop  \n",
       "count         4830.000000         4830.000000         4830.000000  4830.000000  \n",
       "mean             0.172921            0.129420            0.147792     2.953830  \n",
       "std              0.149834            0.096913            0.143980     2.004587  \n",
       "min              0.000091            0.000126            0.000203     0.000000  \n",
       "25%              0.062928            0.058067            0.055871     1.000000  \n",
       "50%              0.148893            0.129420            0.134762     3.000000  \n",
       "75%              0.198258            0.162584            0.158424     5.000000  \n",
       "max              0.786905            0.766119            0.835383     6.000000  \n",
       "\n",
       "[8 rows x 73 columns]"
      ]
     },
     "metadata": {},
     "output_type": "display_data"
    },
    {
     "name": "stdout",
     "output_type": "stream",
     "text": [
      "Описательная статистика столбцов object\n",
      "\n"
     ]
    },
    {
     "data": {
      "text/html": [
       "<div>\n",
       "<style scoped>\n",
       "    .dataframe tbody tr th:only-of-type {\n",
       "        vertical-align: middle;\n",
       "    }\n",
       "\n",
       "    .dataframe tbody tr th {\n",
       "        vertical-align: top;\n",
       "    }\n",
       "\n",
       "    .dataframe thead th {\n",
       "        text-align: right;\n",
       "    }\n",
       "</style>\n",
       "<table border=\"1\" class=\"dataframe\">\n",
       "  <thead>\n",
       "    <tr style=\"text-align: right;\">\n",
       "      <th></th>\n",
       "      <th>.geo</th>\n",
       "    </tr>\n",
       "  </thead>\n",
       "  <tbody>\n",
       "    <tr>\n",
       "      <th>count</th>\n",
       "      <td>4830</td>\n",
       "    </tr>\n",
       "    <tr>\n",
       "      <th>unique</th>\n",
       "      <td>4830</td>\n",
       "    </tr>\n",
       "    <tr>\n",
       "      <th>top</th>\n",
       "      <td>{\"type\":\"Polygon\",\"coordinates\":[[[42.49107269...</td>\n",
       "    </tr>\n",
       "    <tr>\n",
       "      <th>freq</th>\n",
       "      <td>1</td>\n",
       "    </tr>\n",
       "  </tbody>\n",
       "</table>\n",
       "</div>"
      ],
      "text/plain": [
       "                                                     .geo\n",
       "count                                                4830\n",
       "unique                                               4830\n",
       "top     {\"type\":\"Polygon\",\"coordinates\":[[[42.49107269...\n",
       "freq                                                    1"
      ]
     },
     "metadata": {},
     "output_type": "display_data"
    },
    {
     "name": "stdout",
     "output_type": "stream",
     "text": [
      "Количество пропусков в каждом столбце\n",
      "\n"
     ]
    },
    {
     "data": {
      "text/plain": [
       "id                    0\n",
       "area                  0\n",
       "nd_mean_2021-04-16    0\n",
       "nd_mean_2021-04-19    0\n",
       "nd_mean_2021-04-22    0\n",
       "                     ..\n",
       "nd_mean_2021-08-13    0\n",
       "nd_mean_2021-08-27    0\n",
       "nd_mean_2021-05-08    0\n",
       "nd_mean_2021-05-24    0\n",
       "crop                  0\n",
       "Length: 74, dtype: int64"
      ]
     },
     "metadata": {},
     "output_type": "display_data"
    },
    {
     "name": "stdout",
     "output_type": "stream",
     "text": [
      "Количество уникальных значений\n",
      "\n"
     ]
    },
    {
     "data": {
      "text/plain": [
       "id                    4830\n",
       "area                   131\n",
       "nd_mean_2021-04-16    4272\n",
       "nd_mean_2021-04-19    4081\n",
       "nd_mean_2021-04-22    4298\n",
       "                      ... \n",
       "nd_mean_2021-08-13    3939\n",
       "nd_mean_2021-08-27    4054\n",
       "nd_mean_2021-05-08    4002\n",
       "nd_mean_2021-05-24    3899\n",
       "crop                     7\n",
       "Length: 74, dtype: int64"
      ]
     },
     "metadata": {},
     "output_type": "display_data"
    },
    {
     "name": "stdout",
     "output_type": "stream",
     "text": [
      "Количество дубликатов\n",
      "\n"
     ]
    },
    {
     "data": {
      "text/plain": [
       "0"
      ]
     },
     "metadata": {},
     "output_type": "display_data"
    }
   ],
   "source": [
    "# проверю что с моим датасетом\n",
    "df_check(df_new_train)"
   ]
  },
  {
   "cell_type": "markdown",
   "metadata": {
    "id": "C1p6g10F4Qg5"
   },
   "source": [
    "NaN заменены, пропусков нет, нулевых значений тоже. Явной зависимости целевого признака не обнаружено."
   ]
  },
  {
   "cell_type": "code",
   "execution_count": 16,
   "metadata": {
    "colab": {
     "base_uri": "https://localhost:8080/"
    },
    "id": "WHYwVeXHJDQc",
    "outputId": "b37fef18-d3fc-48ee-cdbc-3a7294693eca"
   },
   "outputs": [
    {
     "data": {
      "text/plain": [
       "0    726\n",
       "4    718\n",
       "1    700\n",
       "2    697\n",
       "5    668\n",
       "6    666\n",
       "3    655\n",
       "Name: crop, dtype: int64"
      ]
     },
     "execution_count": 16,
     "metadata": {},
     "output_type": "execute_result"
    }
   ],
   "source": [
    "df_new_train['crop'].value_counts()"
   ]
  },
  {
   "cell_type": "markdown",
   "metadata": {
    "id": "MP9DRVyXddXC"
   },
   "source": [
    "Данные сбалансированы."
   ]
  },
  {
   "cell_type": "markdown",
   "metadata": {
    "id": "ONC4rDrsAcnL"
   },
   "source": [
    "## Обучение модели"
   ]
  },
  {
   "cell_type": "markdown",
   "metadata": {
    "id": "BzbGdXCCq2Fy"
   },
   "source": [
    "В качестве признаков буду использовать nd_mean по времени и площадь, а в качестве цели предсказания будет crop - засеянная культура."
   ]
  },
  {
   "cell_type": "code",
   "execution_count": 17,
   "metadata": {
    "id": "C1gSLlT76I3m"
   },
   "outputs": [],
   "source": [
    "X = df_new_train.drop(['.geo', 'crop'], axis = 1)\n",
    "y = df_new_train[['crop']]"
   ]
  },
  {
   "cell_type": "code",
   "execution_count": 18,
   "metadata": {
    "colab": {
     "base_uri": "https://localhost:8080/"
    },
    "id": "mb4dLU9hAmvp",
    "outputId": "c0e24159-19c5-4aac-a3ac-fe6135ecf02b"
   },
   "outputs": [
    {
     "name": "stdout",
     "output_type": "stream",
     "text": [
      "(2898, 72) (966, 72) (966, 72)\n",
      "(2898, 1) (966, 1) (966, 1)\n"
     ]
    }
   ],
   "source": [
    "# разделю данные\n",
    "X_train, X_valid, y_train, y_valid = train_test_split(X, y, test_size=0.4, \n",
    "                                                      random_state=RANDOM_STATE, stratify=y)\n",
    "X_valid, X_test, y_valid, y_test = train_test_split(X_valid, y_valid, test_size=0.5,\n",
    "                                                    random_state=RANDOM_STATE, stratify=y_valid)\n",
    "\n",
    "print(X_train.shape, X_valid.shape, X_test.shape)\n",
    "print(y_train.shape, y_valid.shape, y_test.shape)"
   ]
  },
  {
   "cell_type": "code",
   "execution_count": 19,
   "metadata": {
    "colab": {
     "base_uri": "https://localhost:8080/"
    },
    "id": "5Q1P9nNAMEOz",
    "outputId": "f0fe351c-ce93-4cf1-9cd9-f1dc767b95e2"
   },
   "outputs": [
    {
     "data": {
      "text/plain": [
       "crop\n",
       "0       726\n",
       "4       718\n",
       "1       700\n",
       "2       697\n",
       "5       668\n",
       "6       666\n",
       "3       655\n",
       "dtype: int64"
      ]
     },
     "execution_count": 19,
     "metadata": {},
     "output_type": "execute_result"
    }
   ],
   "source": [
    "y.value_counts()"
   ]
  },
  {
   "cell_type": "code",
   "execution_count": 20,
   "metadata": {
    "id": "0oAhgktG4vue"
   },
   "outputs": [],
   "source": [
    "# стандартизация данных\n",
    "ss = StandardScaler()\n",
    "X_train_scaled = ss.fit_transform(X_train)\n",
    "X_test_scaled = ss.transform(X_test)\n",
    "X_valid_scaled = ss.transform(X_valid)\n",
    "y_train_ss = np.array(y_train)\n",
    "y_test_ss = np.array(y_test)\n",
    "\n",
    "# для нейронки\n",
    "y_train_nero = utils.to_categorical(y_train)\n",
    "y_test_nero = utils.to_categorical(y_test)\n",
    "y_valid_nero = utils.to_categorical(y_valid)"
   ]
  },
  {
   "cell_type": "code",
   "execution_count": 21,
   "metadata": {
    "id": "0if7fgduvny7"
   },
   "outputs": [],
   "source": [
    "# обучение моделей\n",
    "model_rfc = RandomForestClassifier(n_estimators = 100, random_state=RANDOM_STATE)\n",
    "model_knc = KNeighborsClassifier()\n",
    "model_lr = LogisticRegression(verbose=1, n_jobs=-1, random_state=RANDOM_STATE) \n",
    "model_svc = svm.SVC(random_state=RANDOM_STATE)\n",
    "model_HGBGT = HistGradientBoostingClassifier(loss='categorical_crossentropy',\n",
    "                                             max_iter=2000, random_state=RANDOM_STATE)\n",
    "model_LGBM = LGBMClassifier(random_state=RANDOM_STATE)\n",
    "model_xgb_cl = xgb.XGBClassifier(random_state=RANDOM_STATE)\n"
   ]
  },
  {
   "cell_type": "code",
   "execution_count": 22,
   "metadata": {
    "colab": {
     "base_uri": "https://localhost:8080/"
    },
    "id": "uix9h5nc0zFk",
    "outputId": "603bb4fd-dc93-4aaf-a61f-17a5c289f9be"
   },
   "outputs": [
    {
     "name": "stderr",
     "output_type": "stream",
     "text": [
      "[Parallel(n_jobs=-1)]: Using backend LokyBackend with 8 concurrent workers.\n",
      "[Parallel(n_jobs=-1)]: Done   1 out of   1 | elapsed:    4.3s finished\n"
     ]
    },
    {
     "name": "stdout",
     "output_type": "stream",
     "text": [
      "CPU times: total: 2min 40s\n",
      "Wall time: 29.9 s\n"
     ]
    }
   ],
   "source": [
    "%%time\n",
    "model_rfc.fit(X_train_scaled, np.ravel(y_train_ss, order='C'))\n",
    "pred_rfc = model_rfc.predict(X_test_scaled)\n",
    "\n",
    "model_knc.fit(X_train_scaled, np.ravel(y_train_ss, order='C'))\n",
    "pred_knc = model_knc.predict(X_test_scaled)\n",
    "\n",
    "model_lr.fit(X_train_scaled, np.ravel(y_train_ss, order='C'))\n",
    "pred_lr = model_lr.predict(X_test_scaled)\n",
    "\n",
    "model_svc.fit(X_train_scaled, np.ravel(y_train_ss, order='C'))\n",
    "pred_svc = model_svc.predict(X_test_scaled)\n",
    "\n",
    "model_HGBGT.fit(X_train_scaled, np.ravel(y_train_ss, order='C'))\n",
    "pred_HGBGT = model_HGBGT.predict(X_test_scaled)\n",
    "\n",
    "model_LGBM.fit(X_train_scaled, np.ravel(y_train_ss, order='C'))\n",
    "pred_LGBM = model_LGBM.predict(X_test_scaled)\n",
    "\n",
    "model_xgb_cl.fit(X_train_scaled, np.ravel(y_train_ss, order='C'))\n",
    "pred_xgb_cl = model_xgb_cl.predict(X_test_scaled)\n"
   ]
  },
  {
   "cell_type": "markdown",
   "metadata": {
    "id": "uK1cHbHu1QQa"
   },
   "source": [
    "По условию задачи метрика, по которой определяется эффективность модели, - это recall, поэтому приведу эту метрику для каждой модели."
   ]
  },
  {
   "cell_type": "code",
   "execution_count": 23,
   "metadata": {
    "colab": {
     "base_uri": "https://localhost:8080/"
    },
    "id": "HlvMqxFx0m2Q",
    "outputId": "968dc34e-ad63-441d-af12-1e0ddf4bb439"
   },
   "outputs": [
    {
     "name": "stdout",
     "output_type": "stream",
     "text": [
      "RandomForestClassifier(random_state=12345) \n",
      " 0.9508829145357914\n",
      "KNeighborsClassifier() \n",
      " 0.9120313955237566\n",
      "LogisticRegression(n_jobs=-1, random_state=12345, verbose=1) \n",
      " 0.9226043920874523\n",
      "SVC(random_state=12345) \n",
      " 0.9481542586253806\n",
      "HistGradientBoostingClassifier(loss='categorical_crossentropy', max_iter=2000,\n",
      "                               random_state=12345) \n",
      " 0.9603575068016996\n",
      "LGBMClassifier(random_state=12345) \n",
      " 0.961364427885995\n",
      "XGBClassifier(base_score=0.5, booster='gbtree', callbacks=None,\n",
      "              colsample_bylevel=1, colsample_bynode=1, colsample_bytree=1,\n",
      "              early_stopping_rounds=None, enable_categorical=False,\n",
      "              eval_metric=None, feature_types=None, gamma=0, gpu_id=-1,\n",
      "              grow_policy='depthwise', importance_type=None,\n",
      "              interaction_constraints='', learning_rate=0.300000012,\n",
      "              max_bin=256, max_cat_threshold=64, max_cat_to_onehot=4,\n",
      "              max_delta_step=0, max_depth=6, max_leaves=0, min_child_weight=1,\n",
      "              missing=nan, monotone_constraints='()', n_estimators=100,\n",
      "              n_jobs=0, num_parallel_tree=1, objective='multi:softprob',\n",
      "              predictor='auto', ...) \n",
      " 0.9613394210386266\n"
     ]
    }
   ],
   "source": [
    "print(model_rfc,'\\n', recall_score(y_test_ss, pred_rfc, average=\"macro\", zero_division=0))\n",
    "print(model_knc,'\\n', recall_score(y_test_ss, pred_knc, average=\"macro\", zero_division=0))\n",
    "print(model_lr,'\\n', recall_score(y_test_ss, pred_lr, average=\"macro\", zero_division=0))\n",
    "print(model_svc,'\\n', recall_score(y_test_ss, pred_svc, average=\"macro\", zero_division=0))\n",
    "print(model_HGBGT,'\\n', recall_score(y_test_ss, pred_HGBGT, average=\"macro\", zero_division=0))\n",
    "print(model_LGBM,'\\n', recall_score(y_test_ss, pred_LGBM, average=\"macro\", zero_division=0))\n",
    "print(model_xgb_cl,'\\n', recall_score(y_test_ss, pred_xgb_cl, average=\"macro\", zero_division=0))"
   ]
  },
  {
   "cell_type": "markdown",
   "metadata": {
    "id": "Sz8G2-x0GLu3"
   },
   "source": [
    "Лучшей моделью себя показала HistGradientBoostingClassifier. (Я участвовал на Всероссийском соревновании и очень много тестировал, разные модели с разными параметрами и xgb и lgbm проигрывали в результатах, но именно сейчас показали свои лучшие результаты, но итогом я возьму model_HGBGT) Проверю на валидационной выборке"
   ]
  },
  {
   "cell_type": "code",
   "execution_count": 24,
   "metadata": {
    "colab": {
     "base_uri": "https://localhost:8080/"
    },
    "id": "0J4ryUHMlrI_",
    "outputId": "b18ddf5e-efe7-4222-dabe-3e07b0f36fee",
    "scrolled": true
   },
   "outputs": [
    {
     "name": "stdout",
     "output_type": "stream",
     "text": [
      "HistGradientBoostingClassifier(loss='categorical_crossentropy', max_iter=2000,\n",
      "                               random_state=12345) \n",
      " 0.9691789062984828\n"
     ]
    }
   ],
   "source": [
    "pred_HGBGT_valid = model_HGBGT.predict(X_valid_scaled)\n",
    "print(model_HGBGT,'\\n', recall_score(y_valid, pred_HGBGT_valid, average=\"macro\", zero_division=0))"
   ]
  },
  {
   "cell_type": "markdown",
   "metadata": {},
   "source": [
    "Результат на валидационной выборке даже чуть лучше, чем ожидалось."
   ]
  },
  {
   "cell_type": "markdown",
   "metadata": {},
   "source": [
    "Заодно проверю как на валидационных данных показывают себя другие модели."
   ]
  },
  {
   "cell_type": "code",
   "execution_count": 25,
   "metadata": {},
   "outputs": [
    {
     "name": "stdout",
     "output_type": "stream",
     "text": [
      "LGBMClassifier(random_state=12345) \n",
      " 0.9641367350295634\n"
     ]
    }
   ],
   "source": [
    "pred_model_LGBM_valid = model_LGBM.predict(X_valid_scaled)\n",
    "print(model_LGBM,'\\n', recall_score(y_valid, pred_model_LGBM_valid, average=\"macro\", zero_division=0))"
   ]
  },
  {
   "cell_type": "code",
   "execution_count": 26,
   "metadata": {},
   "outputs": [
    {
     "name": "stdout",
     "output_type": "stream",
     "text": [
      "XGBClassifier(base_score=0.5, booster='gbtree', callbacks=None,\n",
      "              colsample_bylevel=1, colsample_bynode=1, colsample_bytree=1,\n",
      "              early_stopping_rounds=None, enable_categorical=False,\n",
      "              eval_metric=None, feature_types=None, gamma=0, gpu_id=-1,\n",
      "              grow_policy='depthwise', importance_type=None,\n",
      "              interaction_constraints='', learning_rate=0.300000012,\n",
      "              max_bin=256, max_cat_threshold=64, max_cat_to_onehot=4,\n",
      "              max_delta_step=0, max_depth=6, max_leaves=0, min_child_weight=1,\n",
      "              missing=nan, monotone_constraints='()', n_estimators=100,\n",
      "              n_jobs=0, num_parallel_tree=1, objective='multi:softprob',\n",
      "              predictor='auto', ...) \n",
      " 0.9592455445444197\n"
     ]
    }
   ],
   "source": [
    "pred_model_xgb_cl_valid = model_xgb_cl.predict(X_valid_scaled)\n",
    "print(model_xgb_cl,'\\n', recall_score(y_valid, pred_model_xgb_cl_valid, average=\"macro\", zero_division=0))"
   ]
  },
  {
   "cell_type": "markdown",
   "metadata": {
    "id": "F5Ff4_iTvKnB"
   },
   "source": [
    "На соревновании (итоги были подведены 20.11.2022 в 15:00 МСК) (занял 76 место из 236) и поэтому там был свой способ тестирования моделей и моя \"моделька\" на их тестовых данных (привате) показала recall = 0.969236."
   ]
  },
  {
   "attachments": {
    "2022-11-25_20-47-08.png": {
     "image/png": "[encoded data removed]"
    }
   },
   "cell_type": "markdown",
   "metadata": {},
   "source": [
    "![2022-11-25_20-47-08.png](attachment:2022-11-25_20-47-08.png)"
   ]
  },
  {
   "cell_type": "markdown",
   "metadata": {
    "id": "g14Q0qL6mNvx"
   },
   "source": [
    "### Нейронная сеть для множественной классификации"
   ]
  },
  {
   "cell_type": "markdown",
   "metadata": {
    "id": "Mt0rDEHP2m_e"
   },
   "source": [
    "**Спойлер**\n",
    "\n",
    "В рамках задачи соревнования нейронки давали не очень хороший результат. Но в рамках задачи курса будет добавлена модель нейронной сети"
   ]
  },
  {
   "cell_type": "code",
   "execution_count": 27,
   "metadata": {
    "colab": {
     "base_uri": "https://localhost:8080/",
     "height": 1000
    },
    "id": "JAPkPV-OmP_c",
    "outputId": "6540932b-1aed-4b7d-c5c7-66bca44864e5",
    "scrolled": true
   },
   "outputs": [
    {
     "name": "stdout",
     "output_type": "stream",
     "text": [
      "Epoch 1/30\n",
      "322/322 [==============================] - 2s 4ms/step - loss: 0.4711 - categorical_accuracy: 0.8264\n",
      "Epoch 2/30\n",
      "322/322 [==============================] - 1s 4ms/step - loss: 0.2208 - categorical_accuracy: 0.9213\n",
      "Epoch 3/30\n",
      "322/322 [==============================] - 1s 4ms/step - loss: 0.1694 - categorical_accuracy: 0.9431\n",
      "Epoch 4/30\n",
      "322/322 [==============================] - 1s 3ms/step - loss: 0.1625 - categorical_accuracy: 0.9444\n",
      "Epoch 5/30\n",
      "322/322 [==============================] - 1s 3ms/step - loss: 0.1033 - categorical_accuracy: 0.9631\n",
      "Epoch 6/30\n",
      "322/322 [==============================] - 1s 4ms/step - loss: 0.0749 - categorical_accuracy: 0.9703\n",
      "Epoch 7/30\n",
      "322/322 [==============================] - 1s 4ms/step - loss: 0.0775 - categorical_accuracy: 0.9714\n",
      "Epoch 8/30\n",
      "322/322 [==============================] - 1s 3ms/step - loss: 0.0708 - categorical_accuracy: 0.9790\n",
      "Epoch 9/30\n",
      "322/322 [==============================] - 1s 4ms/step - loss: 0.0534 - categorical_accuracy: 0.9790\n",
      "Epoch 10/30\n",
      "322/322 [==============================] - 1s 4ms/step - loss: 0.0631 - categorical_accuracy: 0.9817\n",
      "Epoch 11/30\n",
      "322/322 [==============================] - 1s 3ms/step - loss: 0.0370 - categorical_accuracy: 0.9848\n",
      "Epoch 12/30\n",
      "322/322 [==============================] - 1s 3ms/step - loss: 0.0845 - categorical_accuracy: 0.9817\n",
      "Epoch 13/30\n",
      "322/322 [==============================] - 1s 3ms/step - loss: 0.0781 - categorical_accuracy: 0.9814\n",
      "Epoch 14/30\n",
      "322/322 [==============================] - 1s 3ms/step - loss: 0.0425 - categorical_accuracy: 0.9869\n",
      "Epoch 15/30\n",
      "322/322 [==============================] - 1s 4ms/step - loss: 0.0331 - categorical_accuracy: 0.9914\n",
      "Epoch 16/30\n",
      "322/322 [==============================] - 1s 3ms/step - loss: 0.0385 - categorical_accuracy: 0.9869\n",
      "Epoch 17/30\n",
      "322/322 [==============================] - 1s 3ms/step - loss: 0.0244 - categorical_accuracy: 0.9921\n",
      "Epoch 18/30\n",
      "322/322 [==============================] - 1s 4ms/step - loss: 0.0269 - categorical_accuracy: 0.9921\n",
      "Epoch 19/30\n",
      "322/322 [==============================] - 1s 4ms/step - loss: 0.0445 - categorical_accuracy: 0.9879\n",
      "Epoch 20/30\n",
      "322/322 [==============================] - 1s 3ms/step - loss: 0.0742 - categorical_accuracy: 0.9869\n",
      "Epoch 21/30\n",
      "322/322 [==============================] - 1s 3ms/step - loss: 0.0244 - categorical_accuracy: 0.9924\n",
      "Epoch 22/30\n",
      "322/322 [==============================] - 1s 3ms/step - loss: 0.0226 - categorical_accuracy: 0.9941\n",
      "Epoch 23/30\n",
      "322/322 [==============================] - 1s 3ms/step - loss: 0.0241 - categorical_accuracy: 0.9931\n",
      "Epoch 24/30\n",
      "322/322 [==============================] - 1s 3ms/step - loss: 0.0296 - categorical_accuracy: 0.9890\n",
      "Epoch 25/30\n",
      "322/322 [==============================] - 1s 3ms/step - loss: 0.0300 - categorical_accuracy: 0.9910\n",
      "Epoch 26/30\n",
      "322/322 [==============================] - 1s 3ms/step - loss: 0.0435 - categorical_accuracy: 0.9872\n",
      "Epoch 27/30\n",
      "322/322 [==============================] - 1s 4ms/step - loss: 0.0190 - categorical_accuracy: 0.9945\n",
      "Epoch 28/30\n",
      "322/322 [==============================] - 1s 4ms/step - loss: 0.0113 - categorical_accuracy: 0.9969\n",
      "Epoch 29/30\n",
      "322/322 [==============================] - 1s 4ms/step - loss: 0.0243 - categorical_accuracy: 0.9941\n",
      "Epoch 30/30\n",
      "322/322 [==============================] - 1s 3ms/step - loss: 0.0261 - categorical_accuracy: 0.9934\n"
     ]
    },
    {
     "data": {
      "image/png": "[encoded data removed]",
      "text/plain": [
       "<Figure size 432x288 with 1 Axes>"
      ]
     },
     "metadata": {
      "needs_background": "light"
     },
     "output_type": "display_data"
    }
   ],
   "source": [
    "#модель\n",
    "model_nero = Sequential()\n",
    "\n",
    "#входные полносвязные слои\n",
    "model_nero.add(Dense(720, input_dim=72, activation='relu'))\n",
    "model_nero.add(Dropout(0.3))\n",
    "model_nero.add(Dense(360, activation='relu'))\n",
    "model_nero.add(Dropout(0.2))\n",
    "model_nero.add(Dense(72, activation='relu'))\n",
    "model_nero.add(Dropout(0.1))\n",
    "\n",
    "\n",
    "#выходной полносвязный слой\n",
    "model_nero.add(Dense(7, activation='softmax'))\n",
    "\n",
    "model_nero.compile(loss='categorical_crossentropy', optimizer='adam', metrics=['categorical_accuracy'])\n",
    "\n",
    "n = 30000\n",
    "\n",
    "history = model_nero.fit(X_train_scaled[:n],\n",
    "                    y_train_nero[:n],\n",
    "                    batch_size = 9,\n",
    "                    epochs = 30,\n",
    "                    validation_data = (X_train_scaled[n:], y_train_nero[n:]))\n",
    "\n",
    "plt.plot(history.history['categorical_accuracy'],\n",
    "         label = 'Точность train')\n",
    "plt.xlabel('эпоха')\n",
    "plt.ylabel('точность')\n",
    "plt.legend()\n",
    "plt.show()"
   ]
  },
  {
   "cell_type": "code",
   "execution_count": 28,
   "metadata": {
    "colab": {
     "base_uri": "https://localhost:8080/"
    },
    "id": "oXNSU6danOVU",
    "outputId": "a5cf97a5-27ad-42b8-811c-0cb879becd71"
   },
   "outputs": [
    {
     "name": "stdout",
     "output_type": "stream",
     "text": [
      "31/31 [==============================] - 0s 3ms/step\n",
      "[[116   0   1   0  21   0   7]\n",
      " [  0 139   0   0   1   0   0]\n",
      " [  1   0 132   0   4   0   2]\n",
      " [  0   0   0 131   0   0   0]\n",
      " [  5   0   1   0 136   0   2]\n",
      " [  1   0   0   0   0 133   0]\n",
      " [ 12   3   5   0   9   2 102]]\n"
     ]
    }
   ],
   "source": [
    "pred_nero = model_nero.predict(X_test_scaled)\n",
    "pred_nero1 = np.argmax(pred_nero, axis=1)\n",
    "y_test_nero = np.argmax(y_test_nero, axis=1)\n",
    "cm = confusion_matrix(y_test_nero, pred_nero1)\n",
    "print(cm)"
   ]
  },
  {
   "cell_type": "code",
   "execution_count": 29,
   "metadata": {
    "colab": {
     "base_uri": "https://localhost:8080/"
    },
    "id": "artYpw2mnTPD",
    "outputId": "e3fc986d-2192-4f0e-c656-3c285fc75940"
   },
   "outputs": [
    {
     "name": "stdout",
     "output_type": "stream",
     "text": [
      "0.9209137831053271\n"
     ]
    }
   ],
   "source": [
    "print(recall_score(y_test_nero, pred_nero1, average=\"macro\", zero_division=0))"
   ]
  },
  {
   "cell_type": "markdown",
   "metadata": {
    "id": "KTedsSG1osGH"
   },
   "source": [
    "Результат конечно ниже, чем у модели представленной ранее model_HGBGT поэтому создавать приложение буду по ней."
   ]
  },
  {
   "cell_type": "markdown",
   "metadata": {
    "id": "ymYXIi-r6S1-"
   },
   "source": [
    "**Сохраню модель**"
   ]
  },
  {
   "cell_type": "code",
   "execution_count": 31,
   "metadata": {
    "id": "G7Xrb5gr6ZNU"
   },
   "outputs": [],
   "source": [
    " import pickle \n",
    "\n",
    " pkl_filename = \"model_LGBM.pkl\" \n",
    " with open(pkl_filename, 'wb') as file:\n",
    "        pickle.dump(model_LGBM, file) \n",
    " \n",
    " # Load from file \n",
    " with open(pkl_filename, 'rb') as file:\n",
    "    pickle_model = pickle.load(file) \n"
   ]
  },
  {
   "cell_type": "markdown",
   "metadata": {},
   "source": [
    "Проверю как работает загруженная модель на предсказании."
   ]
  },
  {
   "cell_type": "code",
   "execution_count": 32,
   "metadata": {
    "scrolled": true
   },
   "outputs": [
    {
     "data": {
      "text/plain": [
       "array([0, 3, 6, 0, 6, 4, 5, 5, 4, 4, 1, 0, 4, 0, 0, 1, 1, 6, 0, 2, 6, 1,\n",
       "       3, 4, 3, 3, 5, 5, 6, 2, 6, 6, 4, 5, 5, 5, 4, 1, 2, 1, 2, 3, 6, 3,\n",
       "       3, 4, 3, 6, 6, 1, 0, 1, 6, 4, 0, 3, 5, 3, 2, 4, 3, 0, 3, 6, 2, 6,\n",
       "       1, 4, 4, 5, 0, 6, 1, 4, 3, 0, 4, 0, 5, 2, 4, 2, 5, 5, 0, 4, 2, 6,\n",
       "       1, 0, 0, 6, 4, 0, 1, 4, 3, 4, 0, 2, 5, 4, 3, 4, 6, 4, 6, 6, 2, 0,\n",
       "       4, 0, 1, 2, 0, 3, 1, 6, 4, 5, 3, 2, 2, 3, 0, 2, 4, 1, 3, 3, 6, 0,\n",
       "       2, 1, 1, 4, 1, 0, 0, 2, 1, 0, 5, 5, 2, 0, 1, 0, 1, 6, 3, 0, 4, 0,\n",
       "       3, 1, 2, 6, 1, 1, 3, 2, 5, 1, 4, 3, 6, 1, 2, 3, 4, 2, 5, 1, 4, 0,\n",
       "       2, 0, 0, 4, 1, 1, 0, 0, 3, 3, 6, 2, 4, 1, 1, 5, 2, 1, 1, 0, 0, 3,\n",
       "       0, 4, 5, 1, 0, 3, 4, 0, 1, 5, 0, 4, 0, 2, 6, 3, 3, 2, 6, 1, 2, 3,\n",
       "       2, 3, 4, 3, 6, 0, 3, 0, 4, 4, 6, 6, 2, 6, 6, 0, 5, 6, 3, 1, 3, 5,\n",
       "       3, 6, 2, 4, 1, 1, 4, 0, 1, 4, 3, 5, 4, 3, 0, 5, 3, 0, 4, 1, 3, 3,\n",
       "       3, 1, 3, 5, 0, 4, 4, 3, 3, 2, 0, 3, 1, 4, 6, 2, 6, 2, 5, 4, 2, 1,\n",
       "       3, 2, 4, 3, 0, 5, 0, 5, 1, 6, 4, 2, 3, 0, 0, 3, 5, 6, 4, 6, 5, 4,\n",
       "       3, 3, 3, 6, 0, 5, 3, 1, 1, 2, 5, 5, 0, 4, 0, 4, 2, 2, 2, 5, 3, 6,\n",
       "       5, 4, 5, 1, 0, 5, 1, 2, 4, 4, 2, 4, 1, 6, 4, 4, 6, 4, 0, 6, 1, 6,\n",
       "       4, 6, 5, 0, 0, 2, 2, 3, 6, 5, 3, 1, 5, 1, 0, 2, 4, 4, 1, 3, 5, 4,\n",
       "       6, 2, 6, 2, 4, 3, 0, 6, 3, 3, 0, 5, 4, 0, 4, 0, 6, 4, 2, 4, 5, 5,\n",
       "       3, 3, 0, 6, 1, 0, 3, 0, 4, 6, 1, 2, 6, 1, 1, 5, 0, 5, 1, 6, 6, 2,\n",
       "       3, 6, 5, 4, 1, 2, 0, 3, 5, 6, 5, 6, 3, 2, 1, 1, 2, 3, 1, 2, 3, 4,\n",
       "       2, 2, 2, 6, 5, 4, 0, 2, 3, 4, 5, 3, 4, 6, 5, 5, 0, 1, 1, 2, 0, 5,\n",
       "       6, 3, 0, 4, 4, 0, 3, 1, 1, 1, 3, 5, 5, 0, 6, 3, 0, 6, 6, 2, 0, 2,\n",
       "       5, 5, 5, 3, 3, 3, 5, 2, 6, 0, 0, 2, 1, 5, 4, 4, 0, 4, 6, 6, 2, 6,\n",
       "       2, 5, 0, 3, 0, 2, 1, 0, 3, 3, 2, 1, 4, 4, 2, 2, 1, 4, 5, 2, 6, 0,\n",
       "       5, 1, 0, 4, 4, 1, 4, 6, 6, 5, 5, 1, 3, 0, 2, 4, 2, 6, 5, 0, 6, 5,\n",
       "       6, 5, 0, 5, 3, 5, 6, 1, 5, 4, 3, 6, 6, 3, 6, 0, 0, 4, 6, 3, 2, 5,\n",
       "       2, 6, 3, 6, 2, 4, 2, 3, 5, 5, 5, 4, 1, 6, 6, 0, 4, 1, 4, 0, 2, 2,\n",
       "       0, 5, 3, 2, 2, 2, 4, 6, 1, 2, 6, 1, 6, 2, 4, 1, 4, 0, 0, 2, 1, 4,\n",
       "       5, 5, 5, 5, 6, 2, 2, 3, 0, 2, 0, 5, 6, 4, 2, 2, 5, 3, 6, 0, 4, 4,\n",
       "       0, 6, 1, 1, 6, 5, 1, 0, 0, 4, 0, 3, 0, 5, 2, 0, 3, 0, 0, 2, 3, 1,\n",
       "       2, 2, 3, 1, 6, 0, 4, 4, 2, 2, 0, 2, 6, 2, 5, 1, 4, 2, 2, 1, 3, 4,\n",
       "       3, 0, 0, 3, 5, 2, 6, 5, 1, 1, 6, 0, 1, 4, 0, 6, 1, 0, 1, 1, 0, 1,\n",
       "       5, 6, 5, 2, 4, 1, 3, 5, 1, 2, 5, 0, 0, 5, 2, 6, 5, 1, 0, 4, 0, 2,\n",
       "       3, 4, 3, 2, 4, 1, 2, 4, 3, 2, 4, 5, 2, 1, 2, 5, 0, 2, 1, 6, 6, 1,\n",
       "       5, 3, 5, 2, 5, 3, 0, 3, 5, 6, 0, 5, 6, 2, 1, 3, 5, 0, 5, 3, 6, 6,\n",
       "       1, 4, 5, 0, 1, 1, 3, 4, 1, 3, 1, 3, 1, 0, 3, 5, 2, 5, 4, 6, 2, 4,\n",
       "       5, 6, 2, 5, 3, 4, 2, 2, 4, 1, 1, 1, 5, 2, 4, 1, 0, 0, 4, 0, 4, 0,\n",
       "       1, 4, 6, 3, 5, 0, 0, 5, 4, 3, 0, 2, 4, 2, 4, 0, 5, 6, 4, 0, 1, 5,\n",
       "       6, 2, 2, 0, 6, 6, 3, 2, 0, 5, 3, 6, 1, 0, 1, 3, 1, 0, 6, 4, 4, 1,\n",
       "       0, 2, 1, 4, 4, 0, 6, 5, 3, 4, 4, 5, 5, 6, 3, 1, 0, 6, 0, 6, 0, 1,\n",
       "       3, 1, 5, 1, 3, 5, 4, 1, 1, 6, 4, 2, 5, 6, 0, 2, 5, 0, 3, 3, 2, 2,\n",
       "       5, 1, 1, 5, 2, 5, 4, 4, 2, 3, 6, 2, 6, 1, 4, 1, 1, 5, 0, 2, 5, 4,\n",
       "       4, 4, 6, 4, 0, 5, 1, 4, 6, 4, 0, 6, 1, 1, 3, 2, 3, 5, 4, 5, 3, 3,\n",
       "       1, 0, 5, 5, 2, 5, 4, 1, 0, 3, 6, 6, 5, 2, 0, 0, 6, 0, 4, 6],\n",
       "      dtype=int64)"
      ]
     },
     "execution_count": 32,
     "metadata": {},
     "output_type": "execute_result"
    }
   ],
   "source": [
    "pred_HGBGT_valid = model_HGBGT.predict(X_valid_scaled)\n",
    "pred_HGBGT_valid"
   ]
  },
  {
   "cell_type": "code",
   "execution_count": 33,
   "metadata": {
    "scrolled": true
   },
   "outputs": [
    {
     "data": {
      "text/plain": [
       "array([0, 3, 6, 0, 6, 4, 5, 5, 4, 4, 1, 0, 4, 0, 0, 1, 1, 6, 0, 2, 6, 1,\n",
       "       3, 4, 3, 3, 5, 5, 6, 2, 6, 6, 4, 5, 5, 5, 4, 1, 2, 1, 2, 3, 6, 3,\n",
       "       3, 4, 3, 6, 6, 1, 0, 1, 6, 4, 0, 3, 5, 3, 2, 4, 3, 0, 3, 6, 2, 6,\n",
       "       1, 4, 4, 5, 0, 6, 1, 4, 3, 0, 4, 0, 5, 2, 4, 2, 5, 5, 0, 4, 2, 6,\n",
       "       1, 0, 0, 6, 4, 0, 1, 0, 3, 4, 0, 2, 5, 4, 3, 4, 6, 4, 6, 6, 2, 0,\n",
       "       4, 0, 1, 2, 0, 3, 1, 6, 4, 5, 3, 2, 2, 3, 0, 2, 4, 1, 3, 3, 6, 0,\n",
       "       2, 1, 4, 4, 1, 0, 0, 2, 1, 0, 5, 5, 2, 0, 1, 0, 1, 6, 3, 0, 4, 0,\n",
       "       3, 1, 2, 6, 1, 1, 3, 2, 5, 1, 4, 3, 6, 1, 2, 3, 4, 2, 5, 1, 4, 0,\n",
       "       2, 0, 0, 4, 1, 1, 0, 0, 3, 3, 6, 2, 4, 1, 1, 5, 2, 1, 1, 0, 0, 3,\n",
       "       0, 6, 5, 1, 0, 3, 4, 0, 1, 5, 0, 4, 0, 2, 6, 3, 3, 2, 6, 1, 2, 3,\n",
       "       2, 3, 4, 3, 6, 0, 3, 0, 4, 4, 6, 6, 2, 6, 6, 0, 5, 6, 3, 1, 3, 5,\n",
       "       3, 6, 2, 4, 1, 1, 4, 0, 1, 4, 3, 5, 4, 3, 0, 5, 3, 0, 4, 1, 3, 3,\n",
       "       3, 1, 3, 5, 0, 4, 4, 3, 3, 2, 0, 3, 1, 4, 6, 2, 6, 2, 5, 4, 2, 1,\n",
       "       3, 2, 4, 3, 0, 5, 0, 5, 1, 6, 4, 2, 3, 0, 0, 3, 5, 6, 4, 6, 5, 4,\n",
       "       3, 3, 3, 6, 0, 5, 3, 1, 1, 2, 5, 5, 0, 4, 0, 4, 2, 2, 2, 5, 3, 6,\n",
       "       5, 4, 5, 1, 0, 5, 1, 2, 4, 4, 2, 4, 1, 6, 4, 4, 6, 4, 0, 6, 1, 6,\n",
       "       4, 6, 5, 0, 0, 2, 2, 3, 6, 5, 3, 1, 5, 1, 0, 2, 4, 4, 1, 3, 5, 4,\n",
       "       6, 2, 6, 2, 4, 3, 0, 6, 3, 3, 6, 5, 4, 0, 4, 0, 6, 4, 2, 4, 5, 5,\n",
       "       3, 3, 0, 6, 1, 0, 3, 0, 4, 6, 1, 2, 6, 1, 1, 5, 0, 5, 1, 6, 6, 2,\n",
       "       3, 6, 5, 4, 1, 2, 0, 3, 5, 6, 5, 6, 3, 2, 1, 1, 2, 3, 1, 2, 3, 4,\n",
       "       2, 2, 2, 6, 5, 4, 0, 2, 3, 4, 5, 3, 4, 4, 5, 5, 0, 1, 1, 2, 0, 5,\n",
       "       6, 3, 0, 4, 4, 0, 3, 1, 1, 1, 3, 5, 5, 0, 6, 3, 0, 6, 6, 2, 0, 2,\n",
       "       5, 5, 5, 3, 3, 3, 5, 2, 6, 0, 0, 2, 1, 5, 4, 4, 0, 4, 6, 6, 2, 6,\n",
       "       2, 5, 0, 3, 0, 2, 1, 0, 3, 3, 2, 1, 4, 4, 2, 2, 1, 4, 5, 2, 6, 0,\n",
       "       5, 1, 0, 4, 4, 1, 4, 6, 6, 5, 5, 1, 3, 0, 2, 4, 2, 6, 5, 0, 6, 5,\n",
       "       6, 5, 0, 5, 3, 5, 6, 1, 5, 4, 3, 6, 6, 3, 6, 0, 0, 4, 6, 3, 2, 5,\n",
       "       2, 6, 3, 6, 2, 4, 2, 3, 5, 5, 5, 4, 1, 6, 6, 0, 4, 1, 4, 2, 2, 2,\n",
       "       0, 5, 3, 2, 2, 2, 4, 6, 1, 2, 6, 1, 6, 2, 4, 1, 4, 0, 6, 2, 1, 4,\n",
       "       5, 5, 5, 5, 6, 2, 2, 3, 0, 2, 0, 5, 6, 4, 2, 2, 5, 3, 6, 0, 4, 4,\n",
       "       4, 6, 1, 1, 6, 5, 1, 6, 4, 4, 0, 3, 0, 5, 2, 0, 3, 0, 0, 2, 3, 1,\n",
       "       2, 2, 3, 1, 6, 0, 4, 4, 2, 2, 0, 2, 6, 2, 5, 1, 4, 2, 2, 1, 3, 4,\n",
       "       3, 0, 0, 3, 5, 2, 6, 5, 1, 1, 6, 0, 1, 4, 0, 6, 1, 0, 1, 1, 0, 1,\n",
       "       5, 6, 5, 2, 4, 1, 3, 5, 1, 2, 5, 2, 0, 5, 2, 6, 5, 1, 0, 4, 0, 2,\n",
       "       3, 4, 3, 2, 4, 1, 2, 4, 3, 2, 4, 5, 2, 1, 2, 5, 0, 2, 1, 6, 6, 1,\n",
       "       5, 3, 5, 2, 5, 3, 0, 3, 5, 6, 0, 5, 6, 2, 1, 3, 5, 0, 5, 3, 6, 6,\n",
       "       1, 4, 5, 0, 1, 1, 3, 4, 1, 3, 1, 3, 1, 0, 3, 5, 2, 5, 4, 0, 2, 4,\n",
       "       5, 6, 2, 5, 3, 4, 2, 2, 4, 1, 1, 1, 5, 2, 4, 1, 0, 0, 4, 0, 4, 0,\n",
       "       1, 4, 6, 3, 5, 0, 0, 5, 4, 3, 0, 2, 4, 2, 4, 0, 5, 6, 4, 0, 1, 5,\n",
       "       6, 2, 2, 0, 6, 6, 3, 2, 0, 5, 3, 0, 1, 0, 1, 3, 1, 0, 6, 4, 4, 1,\n",
       "       0, 2, 1, 4, 4, 0, 0, 5, 3, 4, 4, 5, 5, 6, 3, 1, 0, 6, 0, 6, 0, 1,\n",
       "       3, 1, 5, 1, 3, 5, 4, 1, 1, 6, 4, 2, 5, 6, 0, 2, 5, 0, 3, 3, 2, 2,\n",
       "       5, 1, 1, 5, 2, 5, 4, 4, 2, 3, 6, 2, 6, 1, 4, 1, 1, 5, 0, 2, 5, 4,\n",
       "       4, 4, 6, 4, 0, 5, 1, 4, 6, 4, 0, 6, 1, 1, 3, 2, 3, 5, 4, 5, 3, 3,\n",
       "       1, 0, 5, 5, 2, 5, 4, 1, 0, 3, 6, 6, 5, 2, 0, 0, 6, 0, 4, 6],\n",
       "      dtype=int64)"
      ]
     },
     "execution_count": 33,
     "metadata": {},
     "output_type": "execute_result"
    }
   ],
   "source": [
    "pred_HGBGT_valid_mod = pickle_model.predict(X_valid_scaled)\n",
    "pred_HGBGT_valid_mod"
   ]
  },
  {
   "cell_type": "markdown",
   "metadata": {},
   "source": [
    "Данные те же, значит загруженная моделька работает корректно и может быть использованы для работы в приложении.\n",
    "В репозиториии будет добавлено приложение во flaske, единственное, что входных данных необходимо вводить аж 72 позиции, так что это надо иметь ввиду при проверке работоспособности приложения."
   ]
  },
  {
   "cell_type": "markdown",
   "metadata": {},
   "source": [
    "**ИТОГ**"
   ]
  },
  {
   "cell_type": "markdown",
   "metadata": {},
   "source": [
    "В работе был проведён анализ данных, были заменены пропуски и артефакты (в виде 0 и отрицательных значений) на средние значения. Данные были стандартизированы и подготовлены. На этих данных обучал несколько моделей классификаторов. В ходе большого количества тестов лучше всех показала себя модель HistGradientBoostingClassifier. На ней же проверил валидационные данные. Так как задача была с соревнования, то там моя модель тестировалась на их собственных тестовых данных и на этих данных она показала чуть лучшее значение.\n",
    "\n",
    "Поставленные задачи проекта были выполнены."
   ]
  }
 ],
 "metadata": {
  "accelerator": "GPU",
  "colab": {
   "provenance": []
  },
  "gpuClass": "standard",
  "kernelspec": {
   "display_name": "Python 3 (ipykernel)",
   "language": "python",
   "name": "python3"
  },
  "language_info": {
   "codemirror_mode": {
    "name": "ipython",
    "version": 3
   },
   "file_extension": ".py",
   "mimetype": "text/x-python",
   "name": "python",
   "nbconvert_exporter": "python",
   "pygments_lexer": "ipython3",
   "version": "3.9.12"
  }
 },
 "nbformat": 4,
 "nbformat_minor": 1
}
